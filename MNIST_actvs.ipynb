{
  "nbformat": 4,
  "nbformat_minor": 0,
  "metadata": {
    "colab": {
      "provenance": [],
      "authorship_tag": "ABX9TyML4pU5TXc6ZYJLbv7dQW1N",
      "include_colab_link": true
    },
    "kernelspec": {
      "name": "python3",
      "display_name": "Python 3"
    },
    "language_info": {
      "name": "python"
    },
    "accelerator": "GPU",
    "gpuClass": "standard"
  },
  "cells": [
    {
      "cell_type": "markdown",
      "metadata": {
        "id": "view-in-github",
        "colab_type": "text"
      },
      "source": [
        "<a href=\"https://colab.research.google.com/github/wlg1/analogous_neuron_circuit_expms/blob/main/MNIST_actvs.ipynb\" target=\"_parent\"><img src=\"https://colab.research.google.com/assets/colab-badge.svg\" alt=\"Open In Colab\"/></a>"
      ]
    },
    {
      "cell_type": "markdown",
      "source": [
        "https://www.kaggle.com/code/mishra1993/pytorch-multi-layer-perceptron-mnist/notebook\n",
        "\n",
        "https://www.kaggle.com/code/pinocookie/pytorch-simple-mlp"
      ],
      "metadata": {
        "id": "ChNiF238aroi"
      }
    },
    {
      "cell_type": "code",
      "source": [
        "%%capture\n",
        "import torch\n",
        "import copy\n",
        "import matplotlib.pyplot as plt\n",
        "import numpy as np\n",
        "import pandas as pd\n",
        "import os \n",
        "from torch.utils.data import DataLoader, Dataset\n",
        "import torchvision\n",
        "import torchvision.transforms as transforms\n",
        "from torch.utils.data.sampler import SubsetRandomSampler"
      ],
      "metadata": {
        "id": "oI54g5-954Ei"
      },
      "execution_count": 1,
      "outputs": []
    },
    {
      "cell_type": "markdown",
      "source": [
        "## Dataset"
      ],
      "metadata": {
        "id": "VKHK8FYeyJvW"
      }
    },
    {
      "cell_type": "code",
      "source": [
        "%%capture\n",
        "!git clone https://github.com/wlg1/analogous_neuron_circuit_expms.git\n",
        "\n",
        "! pip install kaggle\n",
        "! mkdir ~/.kaggle\n",
        "! cp /content/analogous_neuron_circuit_expms/kaggle.json ~/.kaggle/\n",
        "! chmod 600 ~/.kaggle/kaggle.json\n",
        "! kaggle datasets download digit-recognizer/data\n",
        "! unzip data.zip"
      ],
      "metadata": {
        "id": "6jqpapXntp6W"
      },
      "execution_count": 2,
      "outputs": []
    },
    {
      "cell_type": "code",
      "source": [
        "class Dataset(object):\n",
        "    \"\"\"An abstract class representing a Dataset.\n",
        "    All other datasets should subclass it. All subclasses should override\n",
        "    ``__len__``, that provides the size of the dataset, and ``__getitem__``,\n",
        "    supporting integer indexing in range from 0 to len(self) exclusive.\n",
        "    \"\"\"\n",
        "\n",
        "    def __getitem__(self, index):\n",
        "        raise NotImplementedError\n",
        "\n",
        "    def __len__(self):\n",
        "        raise NotImplementedError\n",
        "\n",
        "    def __add__(self, other):\n",
        "        return ConcatDataset([self, other])"
      ],
      "metadata": {
        "id": "8MnvzGOkuOt8"
      },
      "execution_count": 3,
      "outputs": []
    },
    {
      "cell_type": "code",
      "source": [
        "class TrainMNIST(Dataset):\n",
        "    \n",
        "    def __init__(self, file_path, transform=None):\n",
        "        self.data = pd.read_csv(file_path)\n",
        "        self.transform = transform\n",
        "        \n",
        "    def __len__(self):\n",
        "        return len(self.data)\n",
        "    \n",
        "    def __getitem__(self, index):\n",
        "        # load image as ndarray type (Height * Width * Channels)\n",
        "        # be carefull for converting dtype to np.uint8 [Unsigned integer (0 to 255)]\n",
        "        # in this example, we use ToTensor(), so we define the numpy array like (H, W, C)\n",
        "        image = self.data.iloc[index, 1:].values.astype(np.uint8).reshape((28, 28, 1))\n",
        "        label = self.data.iloc[index, 0]\n",
        "        \n",
        "        if self.transform is not None:\n",
        "            image = self.transform(image)\n",
        "            \n",
        "        return image, label\n",
        "        \n",
        "class TestMNIST(Dataset):\n",
        "    \n",
        "    def __init__(self, file_path, transform=None):\n",
        "        self.data = pd.read_csv(file_path)\n",
        "        self.transform = transform\n",
        "        \n",
        "    def __len__(self):\n",
        "        return len(self.data)\n",
        "    \n",
        "    def __getitem__(self, index):\n",
        "        # load image as ndarray type (Height * Width * Channels)\n",
        "        # be carefull for converting dtype to np.uint8 [Unsigned integer (0 to 255)]\n",
        "        # in this example, we use ToTensor(), so we define the numpy array like (H, W, C)\n",
        "        image = self.data.iloc[index, 0:].values.astype(np.uint8).reshape((28, 28, 1))\n",
        "    \n",
        "        \n",
        "        if self.transform is not None:\n",
        "            image = self.transform(image)\n",
        "            \n",
        "        return image"
      ],
      "metadata": {
        "id": "WdbHQmz7uPKO"
      },
      "execution_count": 4,
      "outputs": []
    },
    {
      "cell_type": "code",
      "source": [
        "train_data = TrainMNIST('/content/sample_data/mnist_train_small.csv', transform=transforms.ToTensor())\n",
        "test_data = TestMNIST('/content/sample_data/mnist_test.csv', transform=transforms.ToTensor())"
      ],
      "metadata": {
        "id": "dpptJgRCuRvu"
      },
      "execution_count": 5,
      "outputs": []
    },
    {
      "cell_type": "code",
      "source": [
        "# number of subprocesses to use for data loading\n",
        "num_workers = 0\n",
        "# how many samples per batch to load\n",
        "batch_size = 20\n",
        "# percentage of training set to use as validation\n",
        "valid_size = 0.2\n",
        "\n",
        "# convert data to torch.FloatTensor\n",
        "#transform = transforms.ToTensor()\n",
        "\n",
        "# obtain training indices that will be used for validation\n",
        "num_train = len(train_data)\n",
        "indices = list(range(num_train))\n",
        "np.random.shuffle(indices)\n",
        "split = int(np.floor(valid_size * num_train))\n",
        "train_idx, valid_idx = indices[split:], indices[:split]\n",
        "\n",
        "# define samplers for obtaining training and validation batches\n",
        "train_sampler = SubsetRandomSampler(train_idx)\n",
        "valid_sampler = SubsetRandomSampler(valid_idx)\n",
        "\n",
        "# prepare data loaders\n",
        "train_loader = torch.utils.data.DataLoader(train_data, batch_size=batch_size,\n",
        "    sampler=train_sampler, num_workers=num_workers,)\n",
        "valid_loader = torch.utils.data.DataLoader(train_data, batch_size=batch_size, \n",
        "    sampler=valid_sampler, num_workers=num_workers)\n",
        "test_loader = torch.utils.data.DataLoader(test_data, batch_size=batch_size, \n",
        "    num_workers=num_workers)"
      ],
      "metadata": {
        "id": "JPLMH6MRwcWG"
      },
      "execution_count": 6,
      "outputs": []
    },
    {
      "cell_type": "code",
      "source": [
        "import matplotlib.pyplot as plt\n",
        "%matplotlib inline\n",
        "    \n",
        "# obtain one batch of training images\n",
        "dataiter = iter(train_loader)\n",
        "# images, labels = dataiter.next()\n",
        "images, labels = next(dataiter)\n",
        "images = images.numpy()\n",
        "\n",
        "# plot the images in the batch, along with the corresponding labels\n",
        "fig = plt.figure(figsize=(25, 4))\n",
        "for idx in np.arange(20):\n",
        "    ax = fig.add_subplot(2, 20/2, idx+1, xticks=[], yticks=[])\n",
        "    ax.imshow(np.squeeze(images[idx]), cmap='gray')\n",
        "    # print out the correct label for each image\n",
        "    # .item() gets the value contained in a Tensor\n",
        "    ax.set_title(str(labels[idx].item()))"
      ],
      "metadata": {
        "colab": {
          "base_uri": "https://localhost:8080/",
          "height": 180
        },
        "id": "j9l6n28rw42G",
        "outputId": "ba1f7e26-3359-43f1-d63c-2362a4e24e29"
      },
      "execution_count": 7,
      "outputs": [
        {
          "output_type": "display_data",
          "data": {
            "text/plain": [
              "<Figure size 1800x288 with 20 Axes>"
            ],
            "image/png": "[encoded data removed]"
          },
          "metadata": {}
        }
      ]
    },
    {
      "cell_type": "code",
      "source": [
        "img = np.squeeze(images[1])\n",
        "\n",
        "fig = plt.figure(figsize = (12,12)) \n",
        "ax = fig.add_subplot(111)\n",
        "ax.imshow(img, cmap='gray')\n",
        "width, height = img.shape\n",
        "thresh = img.max()/2.5\n",
        "for x in range(width):\n",
        "    for y in range(height):\n",
        "        val = round(img[x][y],2) if img[x][y] !=0 else 0\n",
        "        ax.annotate(str(val), xy=(y,x),\n",
        "                    horizontalalignment='center',\n",
        "                    verticalalignment='center',\n",
        "                    color='white' if img[x][y]<thresh else 'black')"
      ],
      "metadata": {
        "colab": {
          "base_uri": "https://localhost:8080/",
          "height": 700
        },
        "id": "12uLPDe3xU8B",
        "outputId": "b625ebff-f528-4dba-fa20-02c04ad120d3"
      },
      "execution_count": 8,
      "outputs": [
        {
          "output_type": "display_data",
          "data": {
            "text/plain": [
              "<Figure size 864x864 with 1 Axes>"
            ],
            "image/png": "[encoded data removed]"
          },
          "metadata": {
            "needs_background": "light"
          }
        }
      ]
    },
    {
      "cell_type": "markdown",
      "source": [
        "## Model"
      ],
      "metadata": {
        "id": "DecVdrGOx-GG"
      }
    },
    {
      "cell_type": "code",
      "source": [
        "import torch.nn as nn\n",
        "import torch.nn.functional as F\n",
        "\n",
        "class Net(nn.Module):\n",
        "    def __init__(self):\n",
        "        super(Net, self).__init__()\n",
        "        hidden_1 = 512\n",
        "        hidden_2 = 512\n",
        "        self.fc1 = nn.Linear(28 * 28, hidden_1) # linear layer (784 -> hidden_1)\n",
        "        self.fc2 = nn.Linear(hidden_1, hidden_2)\n",
        "        self.fc3 = nn.Linear(hidden_2, 10)\n",
        "        self.dropout = nn.Dropout(0.2)\n",
        "\n",
        "    def forward(self, x):\n",
        "        x = x.view(-1, 28 * 28) # flatten image input\n",
        "        x = F.relu(self.fc1(x))\n",
        "        x = self.dropout(x)\n",
        "        x = F.relu(self.fc2(x))\n",
        "        x = self.dropout(x)\n",
        "        x = self.fc3(x)\n",
        "        return x\n",
        "\n",
        "model = Net()\n",
        "print(model)"
      ],
      "metadata": {
        "colab": {
          "base_uri": "https://localhost:8080/"
        },
        "id": "VbdWSUgjx5Di",
        "outputId": "c5000518-30cd-4a5e-9c31-75f1448fe940"
      },
      "execution_count": 9,
      "outputs": [
        {
          "output_type": "stream",
          "name": "stdout",
          "text": [
            "Net(\n",
            "  (fc1): Linear(in_features=784, out_features=512, bias=True)\n",
            "  (fc2): Linear(in_features=512, out_features=512, bias=True)\n",
            "  (fc3): Linear(in_features=512, out_features=10, bias=True)\n",
            "  (dropout): Dropout(p=0.2, inplace=False)\n",
            ")\n"
          ]
        }
      ]
    },
    {
      "cell_type": "code",
      "source": [
        "# class Feedforward(torch.nn.Module):\n",
        "#     def __init__(self, input_size, hidden_size):\n",
        "#         super(Feedforward, self).__init__()\n",
        "#         self.input_size = input_size\n",
        "#         self.hidden_size  = hidden_size\n",
        "#         self.fc1 = torch.nn.Linear(self.input_size, self.hidden_size)\n",
        "#         self.relu = torch.nn.ReLU()\n",
        "#         self.fc2 = torch.nn.Linear(self.hidden_size, 1)\n",
        "#         self.sigmoid = torch.nn.Sigmoid()\n",
        "#     def forward(self, x):\n",
        "#         hidden = self.fc1(x)\n",
        "#         relu = self.relu(hidden)\n",
        "#         output = self.fc2(relu)\n",
        "#         output = self.sigmoid(output)\n",
        "#         return output"
      ],
      "metadata": {
        "id": "mSBMQ-0Z7QAk"
      },
      "execution_count": null,
      "outputs": []
    },
    {
      "cell_type": "code",
      "source": [
        "# model = Feedforward(2, 2)\n",
        "# criterion = torch.nn.BCELoss()\n",
        "# optimizer = torch.optim.SGD(model.parameters(), lr = 0.01)"
      ],
      "metadata": {
        "id": "iiisCNBx69JC"
      },
      "execution_count": null,
      "outputs": []
    },
    {
      "cell_type": "code",
      "source": [
        "# get previous last layer name\n",
        "named_layers = dict(model.named_modules())\n",
        "layers = list(named_layers.keys())\n",
        "\n",
        "# '' is first layer, the input, so disregard it\n",
        "layers = [x for x in layers if x != '']  "
      ],
      "metadata": {
        "id": "yy5KYfSz5_Uk"
      },
      "execution_count": 20,
      "outputs": []
    },
    {
      "cell_type": "code",
      "source": [
        "layers"
      ],
      "metadata": {
        "colab": {
          "base_uri": "https://localhost:8080/"
        },
        "id": "3IfyDxoH718P",
        "outputId": "64d251f7-ec1c-4301-a7b8-0e42500a0544"
      },
      "execution_count": null,
      "outputs": [
        {
          "output_type": "execute_result",
          "data": {
            "text/plain": [
              "['fc1', 'fc2', 'fc3', 'dropout']"
            ]
          },
          "metadata": {},
          "execution_count": 12
        }
      ]
    },
    {
      "cell_type": "code",
      "source": [
        "# specify loss function (categorical cross-entropy)\n",
        "criterion = nn.CrossEntropyLoss()\n",
        "\n",
        "# specify optimizer (stochastic gradient descent) and learning rate = 0.01\n",
        "optimizer = torch.optim.SGD(model.parameters(), lr=0.01)"
      ],
      "metadata": {
        "id": "QRheTNjzyqai"
      },
      "execution_count": 11,
      "outputs": []
    },
    {
      "cell_type": "code",
      "source": [
        "# number of epochs to train the model\n",
        "n_epochs = 50\n",
        "\n",
        "# initialize tracker for minimum validation loss\n",
        "valid_loss_min = np.Inf # set initial \"min\" to infinity\n",
        "\n",
        "for epoch in range(n_epochs):\n",
        "    # monitor training loss\n",
        "    train_loss = 0.0\n",
        "    valid_loss = 0.0\n",
        "    \n",
        "    ###################\n",
        "    # train the model #\n",
        "    ###################\n",
        "    model.train() # prep model for training\n",
        "    for data, target in train_loader:\n",
        "        # clear the gradients of all optimized variables\n",
        "        optimizer.zero_grad()\n",
        "        # forward pass: compute predicted outputs by passing inputs to the model\n",
        "        output = model(data)\n",
        "        # calculate the loss\n",
        "        loss = criterion(output, target)\n",
        "        # backward pass: compute gradient of the loss with respect to model parameters\n",
        "        loss.backward()\n",
        "        # perform a single optimization step (parameter update)\n",
        "        optimizer.step()\n",
        "        # update running training loss\n",
        "        train_loss += loss.item()*data.size(0)\n",
        "        \n",
        "    ######################    \n",
        "    # validate the model #\n",
        "    ######################\n",
        "    model.eval() # prep model for evaluation\n",
        "    for data, target in valid_loader:\n",
        "        # forward pass: compute predicted outputs by passing inputs to the model\n",
        "        output = model(data)\n",
        "        # calculate the loss\n",
        "        loss = criterion(output, target)\n",
        "        # update running validation loss \n",
        "        valid_loss += loss.item()*data.size(0)\n",
        "        \n",
        "    # print training/validation statistics \n",
        "    # calculate average loss over an epoch\n",
        "    train_loss = train_loss/len(train_loader.dataset)\n",
        "    valid_loss = valid_loss/len(valid_loader.dataset)\n",
        "    \n",
        "    print('Epoch: {} \\tTraining Loss: {:.6f} \\tValidation Loss: {:.6f}'.format(\n",
        "        epoch+1, \n",
        "        train_loss,\n",
        "        valid_loss\n",
        "        ))\n",
        "    \n",
        "    # save model if validation loss has decreased\n",
        "    if valid_loss <= valid_loss_min:\n",
        "        print('Validation loss decreased ({:.6f} --> {:.6f}).  Saving model ...'.format(\n",
        "        valid_loss_min,\n",
        "        valid_loss))\n",
        "        torch.save(model.state_dict(), 'model.pt')\n",
        "        valid_loss_min = valid_loss"
      ],
      "metadata": {
        "id": "7OyIKL2wy2R7"
      },
      "execution_count": null,
      "outputs": []
    },
    {
      "cell_type": "code",
      "source": [
        "model.load_state_dict(torch.load('model.pt'))"
      ],
      "metadata": {
        "colab": {
          "base_uri": "https://localhost:8080/"
        },
        "id": "NHRa6IuLy4eF",
        "outputId": "96796fbb-b672-4eea-b0d9-df1ccb72cb69"
      },
      "execution_count": 12,
      "outputs": [
        {
          "output_type": "execute_result",
          "data": {
            "text/plain": [
              "<All keys matched successfully>"
            ]
          },
          "metadata": {},
          "execution_count": 12
        }
      ]
    },
    {
      "cell_type": "code",
      "source": [
        "# obtain one batch of test images\n",
        "dataiter = iter(test_loader)\n",
        "images = next(dataiter)\n",
        "\n",
        "# get sample outputs\n",
        "output = model(images)\n",
        "# convert output probabilities to predicted class\n",
        "_, preds = torch.max(output, 1)\n",
        "# prep images for display\n",
        "images = images.numpy()\n",
        "\n",
        "# plot the images in the batch, along with predicted and true labels\n",
        "fig = plt.figure(figsize=(25, 4))\n",
        "for idx in np.arange(20):\n",
        "    ax = fig.add_subplot(2, 20/2, idx+1, xticks=[], yticks=[])\n",
        "    ax.imshow(np.squeeze(images[idx]), cmap='gray')\n",
        "    ax.set_title(\"{}\".format(str(preds[idx].item())))"
      ],
      "metadata": {
        "id": "R8DkoF8Wy6Kn",
        "colab": {
          "base_uri": "https://localhost:8080/",
          "height": 390
        },
        "outputId": "4424a2a0-e6ce-4731-9e1c-d06c8c4b4623"
      },
      "execution_count": 13,
      "outputs": [
        {
          "output_type": "error",
          "ename": "ValueError",
          "evalue": "ignored",
          "traceback": [
            "\u001b[0;31m---------------------------------------------------------------------------\u001b[0m",
            "\u001b[0;31mValueError\u001b[0m                                Traceback (most recent call last)",
            "\u001b[0;32m<ipython-input-13-848fe9d0cee1>\u001b[0m in \u001b[0;36m<module>\u001b[0;34m\u001b[0m\n\u001b[1;32m      1\u001b[0m \u001b[0;31m# obtain one batch of test images\u001b[0m\u001b[0;34m\u001b[0m\u001b[0;34m\u001b[0m\u001b[0;34m\u001b[0m\u001b[0m\n\u001b[1;32m      2\u001b[0m \u001b[0mdataiter\u001b[0m \u001b[0;34m=\u001b[0m \u001b[0miter\u001b[0m\u001b[0;34m(\u001b[0m\u001b[0mtest_loader\u001b[0m\u001b[0;34m)\u001b[0m\u001b[0;34m\u001b[0m\u001b[0;34m\u001b[0m\u001b[0m\n\u001b[0;32m----> 3\u001b[0;31m \u001b[0mimages\u001b[0m \u001b[0;34m=\u001b[0m \u001b[0mnext\u001b[0m\u001b[0;34m(\u001b[0m\u001b[0mdataiter\u001b[0m\u001b[0;34m)\u001b[0m\u001b[0;34m\u001b[0m\u001b[0;34m\u001b[0m\u001b[0m\n\u001b[0m\u001b[1;32m      4\u001b[0m \u001b[0;34m\u001b[0m\u001b[0m\n\u001b[1;32m      5\u001b[0m \u001b[0;31m# get sample outputs\u001b[0m\u001b[0;34m\u001b[0m\u001b[0;34m\u001b[0m\u001b[0;34m\u001b[0m\u001b[0m\n",
            "\u001b[0;32m/usr/local/lib/python3.8/dist-packages/torch/utils/data/dataloader.py\u001b[0m in \u001b[0;36m__next__\u001b[0;34m(self)\u001b[0m\n\u001b[1;32m    626\u001b[0m                 \u001b[0;31m# TODO(https://github.com/pytorch/pytorch/issues/76750)\u001b[0m\u001b[0;34m\u001b[0m\u001b[0;34m\u001b[0m\u001b[0;34m\u001b[0m\u001b[0m\n\u001b[1;32m    627\u001b[0m                 \u001b[0mself\u001b[0m\u001b[0;34m.\u001b[0m\u001b[0m_reset\u001b[0m\u001b[0;34m(\u001b[0m\u001b[0;34m)\u001b[0m  \u001b[0;31m# type: ignore[call-arg]\u001b[0m\u001b[0;34m\u001b[0m\u001b[0;34m\u001b[0m\u001b[0m\n\u001b[0;32m--> 628\u001b[0;31m             \u001b[0mdata\u001b[0m \u001b[0;34m=\u001b[0m \u001b[0mself\u001b[0m\u001b[0;34m.\u001b[0m\u001b[0m_next_data\u001b[0m\u001b[0;34m(\u001b[0m\u001b[0;34m)\u001b[0m\u001b[0;34m\u001b[0m\u001b[0;34m\u001b[0m\u001b[0m\n\u001b[0m\u001b[1;32m    629\u001b[0m             \u001b[0mself\u001b[0m\u001b[0;34m.\u001b[0m\u001b[0m_num_yielded\u001b[0m \u001b[0;34m+=\u001b[0m \u001b[0;36m1\u001b[0m\u001b[0;34m\u001b[0m\u001b[0;34m\u001b[0m\u001b[0m\n\u001b[1;32m    630\u001b[0m             \u001b[0;32mif\u001b[0m \u001b[0mself\u001b[0m\u001b[0;34m.\u001b[0m\u001b[0m_dataset_kind\u001b[0m \u001b[0;34m==\u001b[0m \u001b[0m_DatasetKind\u001b[0m\u001b[0;34m.\u001b[0m\u001b[0mIterable\u001b[0m \u001b[0;32mand\u001b[0m\u001b[0;31m \u001b[0m\u001b[0;31m\\\u001b[0m\u001b[0;34m\u001b[0m\u001b[0;34m\u001b[0m\u001b[0m\n",
            "\u001b[0;32m/usr/local/lib/python3.8/dist-packages/torch/utils/data/dataloader.py\u001b[0m in \u001b[0;36m_next_data\u001b[0;34m(self)\u001b[0m\n\u001b[1;32m    669\u001b[0m     \u001b[0;32mdef\u001b[0m \u001b[0m_next_data\u001b[0m\u001b[0;34m(\u001b[0m\u001b[0mself\u001b[0m\u001b[0;34m)\u001b[0m\u001b[0;34m:\u001b[0m\u001b[0;34m\u001b[0m\u001b[0;34m\u001b[0m\u001b[0m\n\u001b[1;32m    670\u001b[0m         \u001b[0mindex\u001b[0m \u001b[0;34m=\u001b[0m \u001b[0mself\u001b[0m\u001b[0;34m.\u001b[0m\u001b[0m_next_index\u001b[0m\u001b[0;34m(\u001b[0m\u001b[0;34m)\u001b[0m  \u001b[0;31m# may raise StopIteration\u001b[0m\u001b[0;34m\u001b[0m\u001b[0;34m\u001b[0m\u001b[0m\n\u001b[0;32m--> 671\u001b[0;31m         \u001b[0mdata\u001b[0m \u001b[0;34m=\u001b[0m \u001b[0mself\u001b[0m\u001b[0;34m.\u001b[0m\u001b[0m_dataset_fetcher\u001b[0m\u001b[0;34m.\u001b[0m\u001b[0mfetch\u001b[0m\u001b[0;34m(\u001b[0m\u001b[0mindex\u001b[0m\u001b[0;34m)\u001b[0m  \u001b[0;31m# may raise StopIteration\u001b[0m\u001b[0;34m\u001b[0m\u001b[0;34m\u001b[0m\u001b[0m\n\u001b[0m\u001b[1;32m    672\u001b[0m         \u001b[0;32mif\u001b[0m \u001b[0mself\u001b[0m\u001b[0;34m.\u001b[0m\u001b[0m_pin_memory\u001b[0m\u001b[0;34m:\u001b[0m\u001b[0;34m\u001b[0m\u001b[0;34m\u001b[0m\u001b[0m\n\u001b[1;32m    673\u001b[0m             \u001b[0mdata\u001b[0m \u001b[0;34m=\u001b[0m \u001b[0m_utils\u001b[0m\u001b[0;34m.\u001b[0m\u001b[0mpin_memory\u001b[0m\u001b[0;34m.\u001b[0m\u001b[0mpin_memory\u001b[0m\u001b[0;34m(\u001b[0m\u001b[0mdata\u001b[0m\u001b[0;34m,\u001b[0m \u001b[0mself\u001b[0m\u001b[0;34m.\u001b[0m\u001b[0m_pin_memory_device\u001b[0m\u001b[0;34m)\u001b[0m\u001b[0;34m\u001b[0m\u001b[0;34m\u001b[0m\u001b[0m\n",
            "\u001b[0;32m/usr/local/lib/python3.8/dist-packages/torch/utils/data/_utils/fetch.py\u001b[0m in \u001b[0;36mfetch\u001b[0;34m(self, possibly_batched_index)\u001b[0m\n\u001b[1;32m     56\u001b[0m                 \u001b[0mdata\u001b[0m \u001b[0;34m=\u001b[0m \u001b[0mself\u001b[0m\u001b[0;34m.\u001b[0m\u001b[0mdataset\u001b[0m\u001b[0;34m.\u001b[0m\u001b[0m__getitems__\u001b[0m\u001b[0;34m(\u001b[0m\u001b[0mpossibly_batched_index\u001b[0m\u001b[0;34m)\u001b[0m\u001b[0;34m\u001b[0m\u001b[0;34m\u001b[0m\u001b[0m\n\u001b[1;32m     57\u001b[0m             \u001b[0;32melse\u001b[0m\u001b[0;34m:\u001b[0m\u001b[0;34m\u001b[0m\u001b[0;34m\u001b[0m\u001b[0m\n\u001b[0;32m---> 58\u001b[0;31m                 \u001b[0mdata\u001b[0m \u001b[0;34m=\u001b[0m \u001b[0;34m[\u001b[0m\u001b[0mself\u001b[0m\u001b[0;34m.\u001b[0m\u001b[0mdataset\u001b[0m\u001b[0;34m[\u001b[0m\u001b[0midx\u001b[0m\u001b[0;34m]\u001b[0m \u001b[0;32mfor\u001b[0m \u001b[0midx\u001b[0m \u001b[0;32min\u001b[0m \u001b[0mpossibly_batched_index\u001b[0m\u001b[0;34m]\u001b[0m\u001b[0;34m\u001b[0m\u001b[0;34m\u001b[0m\u001b[0m\n\u001b[0m\u001b[1;32m     59\u001b[0m         \u001b[0;32melse\u001b[0m\u001b[0;34m:\u001b[0m\u001b[0;34m\u001b[0m\u001b[0;34m\u001b[0m\u001b[0m\n\u001b[1;32m     60\u001b[0m             \u001b[0mdata\u001b[0m \u001b[0;34m=\u001b[0m \u001b[0mself\u001b[0m\u001b[0;34m.\u001b[0m\u001b[0mdataset\u001b[0m\u001b[0;34m[\u001b[0m\u001b[0mpossibly_batched_index\u001b[0m\u001b[0;34m]\u001b[0m\u001b[0;34m\u001b[0m\u001b[0;34m\u001b[0m\u001b[0m\n",
            "\u001b[0;32m/usr/local/lib/python3.8/dist-packages/torch/utils/data/_utils/fetch.py\u001b[0m in \u001b[0;36m<listcomp>\u001b[0;34m(.0)\u001b[0m\n\u001b[1;32m     56\u001b[0m                 \u001b[0mdata\u001b[0m \u001b[0;34m=\u001b[0m \u001b[0mself\u001b[0m\u001b[0;34m.\u001b[0m\u001b[0mdataset\u001b[0m\u001b[0;34m.\u001b[0m\u001b[0m__getitems__\u001b[0m\u001b[0;34m(\u001b[0m\u001b[0mpossibly_batched_index\u001b[0m\u001b[0;34m)\u001b[0m\u001b[0;34m\u001b[0m\u001b[0;34m\u001b[0m\u001b[0m\n\u001b[1;32m     57\u001b[0m             \u001b[0;32melse\u001b[0m\u001b[0;34m:\u001b[0m\u001b[0;34m\u001b[0m\u001b[0;34m\u001b[0m\u001b[0m\n\u001b[0;32m---> 58\u001b[0;31m                 \u001b[0mdata\u001b[0m \u001b[0;34m=\u001b[0m \u001b[0;34m[\u001b[0m\u001b[0mself\u001b[0m\u001b[0;34m.\u001b[0m\u001b[0mdataset\u001b[0m\u001b[0;34m[\u001b[0m\u001b[0midx\u001b[0m\u001b[0;34m]\u001b[0m \u001b[0;32mfor\u001b[0m \u001b[0midx\u001b[0m \u001b[0;32min\u001b[0m \u001b[0mpossibly_batched_index\u001b[0m\u001b[0;34m]\u001b[0m\u001b[0;34m\u001b[0m\u001b[0;34m\u001b[0m\u001b[0m\n\u001b[0m\u001b[1;32m     59\u001b[0m         \u001b[0;32melse\u001b[0m\u001b[0;34m:\u001b[0m\u001b[0;34m\u001b[0m\u001b[0;34m\u001b[0m\u001b[0m\n\u001b[1;32m     60\u001b[0m             \u001b[0mdata\u001b[0m \u001b[0;34m=\u001b[0m \u001b[0mself\u001b[0m\u001b[0;34m.\u001b[0m\u001b[0mdataset\u001b[0m\u001b[0;34m[\u001b[0m\u001b[0mpossibly_batched_index\u001b[0m\u001b[0;34m]\u001b[0m\u001b[0;34m\u001b[0m\u001b[0;34m\u001b[0m\u001b[0m\n",
            "\u001b[0;32m<ipython-input-4-a2788da4ce05>\u001b[0m in \u001b[0;36m__getitem__\u001b[0;34m(self, index)\u001b[0m\n\u001b[1;32m     33\u001b[0m         \u001b[0;31m# be carefull for converting dtype to np.uint8 [Unsigned integer (0 to 255)]\u001b[0m\u001b[0;34m\u001b[0m\u001b[0;34m\u001b[0m\u001b[0;34m\u001b[0m\u001b[0m\n\u001b[1;32m     34\u001b[0m         \u001b[0;31m# in this example, we use ToTensor(), so we define the numpy array like (H, W, C)\u001b[0m\u001b[0;34m\u001b[0m\u001b[0;34m\u001b[0m\u001b[0;34m\u001b[0m\u001b[0m\n\u001b[0;32m---> 35\u001b[0;31m         \u001b[0mimage\u001b[0m \u001b[0;34m=\u001b[0m \u001b[0mself\u001b[0m\u001b[0;34m.\u001b[0m\u001b[0mdata\u001b[0m\u001b[0;34m.\u001b[0m\u001b[0miloc\u001b[0m\u001b[0;34m[\u001b[0m\u001b[0mindex\u001b[0m\u001b[0;34m,\u001b[0m \u001b[0;36m0\u001b[0m\u001b[0;34m:\u001b[0m\u001b[0;34m]\u001b[0m\u001b[0;34m.\u001b[0m\u001b[0mvalues\u001b[0m\u001b[0;34m.\u001b[0m\u001b[0mastype\u001b[0m\u001b[0;34m(\u001b[0m\u001b[0mnp\u001b[0m\u001b[0;34m.\u001b[0m\u001b[0muint8\u001b[0m\u001b[0;34m)\u001b[0m\u001b[0;34m.\u001b[0m\u001b[0mreshape\u001b[0m\u001b[0;34m(\u001b[0m\u001b[0;34m(\u001b[0m\u001b[0;36m28\u001b[0m\u001b[0;34m,\u001b[0m \u001b[0;36m28\u001b[0m\u001b[0;34m,\u001b[0m \u001b[0;36m1\u001b[0m\u001b[0;34m)\u001b[0m\u001b[0;34m)\u001b[0m\u001b[0;34m\u001b[0m\u001b[0;34m\u001b[0m\u001b[0m\n\u001b[0m\u001b[1;32m     36\u001b[0m \u001b[0;34m\u001b[0m\u001b[0m\n\u001b[1;32m     37\u001b[0m \u001b[0;34m\u001b[0m\u001b[0m\n",
            "\u001b[0;31mValueError\u001b[0m: cannot reshape array of size 785 into shape (28,28,1)"
          ]
        }
      ]
    },
    {
      "cell_type": "code",
      "source": [
        "test_loader = torch.utils.data.DataLoader(test_data, batch_size=1, \n",
        "    num_workers=num_workers)\n",
        "def predict(model, dataloader):\n",
        "    prediction_list = []\n",
        "    for i, batch in enumerate(dataloader):\n",
        "        outputs = model(batch)\n",
        "        _, predicted = torch.max(outputs.data, 1) \n",
        "        prediction_list.append(predicted.cpu())\n",
        "    return prediction_list\n",
        "predictions = predict(model,test_loader)\n",
        "predictions = np.array(predictions)\n",
        "test_data = pd.read_csv(\"../input/test.csv\")\n",
        "\n",
        "\n",
        "submission = pd.DataFrame(data={\n",
        "    \"ImageId\": test_data.index + 1,\n",
        "    \"Label\": predictions\n",
        "})\n",
        "submission.to_csv(\"submission.csv\", index=None)\n",
        "submission.head(n=12).T"
      ],
      "metadata": {
        "id": "uAozvO2Yy8nV"
      },
      "execution_count": null,
      "outputs": []
    },
    {
      "cell_type": "markdown",
      "source": [
        "\n",
        "\n",
        "---\n",
        "# Get Activations\n"
      ],
      "metadata": {
        "id": "XhlF5lry1pIK"
      }
    },
    {
      "cell_type": "code",
      "source": [
        "# obtain one batch of training images\n",
        "dataiter = iter(train_loader)\n",
        "# images, labels = dataiter.next()\n",
        "images, labels = next(dataiter)\n",
        "images.shape"
      ],
      "metadata": {
        "colab": {
          "base_uri": "https://localhost:8080/"
        },
        "id": "5xXNWSfa3O8R",
        "outputId": "fb309f2f-be05-4fdc-8cb7-2bdf220ebe80"
      },
      "execution_count": null,
      "outputs": [
        {
          "output_type": "execute_result",
          "data": {
            "text/plain": [
              "torch.Size([20, 1, 28, 28])"
            ]
          },
          "metadata": {},
          "execution_count": 31
        }
      ]
    },
    {
      "cell_type": "code",
      "source": [
        "out = model(images)\n",
        "out.shape"
      ],
      "metadata": {
        "colab": {
          "base_uri": "https://localhost:8080/"
        },
        "id": "84qBVB8S3Hq_",
        "outputId": "d686d2e9-521d-43a6-f436-a2b7ceaa463b"
      },
      "execution_count": null,
      "outputs": [
        {
          "output_type": "execute_result",
          "data": {
            "text/plain": [
              "torch.Size([20, 10])"
            ]
          },
          "metadata": {},
          "execution_count": 45
        }
      ]
    },
    {
      "cell_type": "code",
      "source": [
        "# prep images for display\n",
        "# https://stackoverflow.com/questions/62490720/valueerror-type-must-be-a-sub-type-of-ndarray-type\n",
        "# images = images.numpy()"
      ],
      "metadata": {
        "id": "sVoU54cf4g9c"
      },
      "execution_count": null,
      "outputs": []
    },
    {
      "cell_type": "code",
      "source": [
        "def get_activations(input, layer_name):\n",
        "    activation = {}\n",
        "    def get_activation(name):\n",
        "        def hook(model, input, output):\n",
        "            activation[name] = output.detach()\n",
        "        return hook\n",
        "\n",
        "    for name_to_check, layer in model.named_modules():\n",
        "        if name_to_check == layer_name:\n",
        "            break\n",
        "    layer.register_forward_hook(get_activation(layer_name))\n",
        "    \n",
        "    output = model(input)\n",
        "\n",
        "    return activation.copy()  #else will return the same actvs of model"
      ],
      "metadata": {
        "id": "NifeiLth3bGl"
      },
      "execution_count": null,
      "outputs": []
    },
    {
      "cell_type": "code",
      "source": [
        "activation_nameVal = {}\n",
        "for layer_name in layers:\n",
        "    activation_nameVal[layer_name] = get_activations(images, layer_name)[layer_name]"
      ],
      "metadata": {
        "id": "JUqqWN7I0azP"
      },
      "execution_count": null,
      "outputs": []
    },
    {
      "cell_type": "code",
      "source": [
        "activation_nameVal['fc1'].shape"
      ],
      "metadata": {
        "colab": {
          "base_uri": "https://localhost:8080/"
        },
        "id": "Js7jTmYm47RP",
        "outputId": "49c30132-0ef2-4e7c-c141-4193a313b53e"
      },
      "execution_count": null,
      "outputs": [
        {
          "output_type": "execute_result",
          "data": {
            "text/plain": [
              "torch.Size([20, 512])"
            ]
          },
          "metadata": {},
          "execution_count": 44
        }
      ]
    },
    {
      "cell_type": "markdown",
      "source": [
        "The first 2 train images are 7, and 3rd is 0. Compare similarities and diffs for all layers\n",
        "\n",
        "Attempt 1: Brute force sum"
      ],
      "metadata": {
        "id": "FSL7MDpE6Sd9"
      }
    },
    {
      "cell_type": "code",
      "source": [
        "for layer_name in layers:\n",
        "    pair_combo_list = [(0, 1), (0, 2), (1, 2)]\n",
        "    for pc in pair_combo_list:\n",
        "        diffs = sum(activation_nameVal[layer_name][pc[0]] - activation_nameVal[layer_name][pc[1]])\n",
        "        print(layer_name, pc, diffs)"
      ],
      "metadata": {
        "colab": {
          "base_uri": "https://localhost:8080/"
        },
        "id": "7tnNQRrL7a0W",
        "outputId": "695601af-702e-49b0-858b-aa568acd3b4c"
      },
      "execution_count": null,
      "outputs": [
        {
          "output_type": "stream",
          "name": "stdout",
          "text": [
            "fc1 (0, 1) tensor(-40.8472)\n",
            "fc1 (0, 2) tensor(-30.6577)\n",
            "fc1 (1, 2) tensor(10.1894)\n",
            "fc2 (0, 1) tensor(12.9846)\n",
            "fc2 (0, 2) tensor(39.5077)\n",
            "fc2 (1, 2) tensor(26.5231)\n",
            "fc3 (0, 1) tensor(0.5368)\n",
            "fc3 (0, 2) tensor(0.7160)\n",
            "fc3 (1, 2) tensor(0.1792)\n",
            "dropout (0, 1) tensor(31.8740)\n",
            "dropout (0, 2) tensor(61.2275)\n",
            "dropout (1, 2) tensor(29.3535)\n"
          ]
        }
      ]
    },
    {
      "cell_type": "markdown",
      "source": [
        "We expect that (0,1), both sevens, should have something differing it from (0,2) and (1,2), which is sevens to 0. But there doesn't seem to be.\n",
        "\n",
        "Rather than aggregate sums, try knockout of each indiv neuron, or combos of indiv neuron, and see how that changes output prob."
      ],
      "metadata": {
        "id": "MyktWtX38FII"
      }
    },
    {
      "cell_type": "code",
      "source": [
        "train_loader = torch.utils.data.DataLoader(train_data, batch_size=1, \n",
        "    num_workers=num_workers)"
      ],
      "metadata": {
        "id": "h3E_6wTX9eSS"
      },
      "execution_count": null,
      "outputs": []
    },
    {
      "cell_type": "code",
      "source": [
        "train_loader"
      ],
      "metadata": {
        "colab": {
          "base_uri": "https://localhost:8080/"
        },
        "id": "CiJFfOd49jjx",
        "outputId": "7b070b95-ac06-41b3-c678-6b1598dc3120"
      },
      "execution_count": null,
      "outputs": [
        {
          "output_type": "execute_result",
          "data": {
            "text/plain": [
              "<torch.utils.data.dataloader.DataLoader at 0x7f10a39eb190>"
            ]
          },
          "metadata": {},
          "execution_count": 59
        }
      ]
    },
    {
      "cell_type": "code",
      "source": [
        "outputs = model(images)\n",
        "_, predicted = torch.max(outputs.data, 1) "
      ],
      "metadata": {
        "id": "sdbrZoVp9GvI"
      },
      "execution_count": null,
      "outputs": []
    },
    {
      "cell_type": "code",
      "source": [
        "predicted"
      ],
      "metadata": {
        "colab": {
          "base_uri": "https://localhost:8080/"
        },
        "id": "zaf_yACe93MK",
        "outputId": "6aea107c-08ab-426b-fe6d-bd6d1ed9baf0"
      },
      "execution_count": null,
      "outputs": [
        {
          "output_type": "execute_result",
          "data": {
            "text/plain": [
              "tensor([6, 1, 8, 5, 6, 2, 7, 0, 5, 0, 5, 7, 9, 4, 2, 5, 3, 7, 2, 6])"
            ]
          },
          "metadata": {},
          "execution_count": 61
        }
      ]
    },
    {
      "cell_type": "code",
      "source": [
        "labels"
      ],
      "metadata": {
        "colab": {
          "base_uri": "https://localhost:8080/"
        },
        "id": "aswLiCUl-Km2",
        "outputId": "4cc1493e-3480-4914-dce5-e8145ea6b3f6"
      },
      "execution_count": null,
      "outputs": [
        {
          "output_type": "execute_result",
          "data": {
            "text/plain": [
              "tensor([6, 1, 8, 5, 6, 2, 7, 0, 5, 0, 5, 7, 9, 4, 2, 5, 3, 7, 2, 6])"
            ]
          },
          "metadata": {},
          "execution_count": 62
        }
      ]
    },
    {
      "cell_type": "markdown",
      "source": [
        "No wonder why it wasn't having good activations; each time you do iter(dataset), you get different images. So it wasn't a 7 vs 7 vs 0 you were comparing."
      ],
      "metadata": {
        "id": "WHMVBjgo-AMC"
      }
    },
    {
      "cell_type": "code",
      "source": [
        "# obtain one batch of training images\n",
        "dataiter = iter(train_loader)\n",
        "# images, labels = dataiter.next()\n",
        "images, labels = next(dataiter)\n",
        "\n",
        "outputs = model(images)\n",
        "_, predicted = torch.max(outputs.data, 1) \n",
        "predicted"
      ],
      "metadata": {
        "colab": {
          "base_uri": "https://localhost:8080/"
        },
        "id": "FkajP1jo-m0q",
        "outputId": "e5dfd8be-5423-494f-f3c7-61c835bbc14d"
      },
      "execution_count": null,
      "outputs": [
        {
          "output_type": "execute_result",
          "data": {
            "text/plain": [
              "tensor([2, 8, 6, 7, 8, 0, 6, 7, 9, 8, 5, 7, 1, 3, 4, 4, 0, 7, 7, 7])"
            ]
          },
          "metadata": {},
          "execution_count": 73
        }
      ]
    },
    {
      "cell_type": "code",
      "source": [
        "labels"
      ],
      "metadata": {
        "colab": {
          "base_uri": "https://localhost:8080/"
        },
        "id": "ncdFmZ0I-zCr",
        "outputId": "379867d9-f1da-4057-a232-54c4808e8406"
      },
      "execution_count": null,
      "outputs": [
        {
          "output_type": "execute_result",
          "data": {
            "text/plain": [
              "tensor([2, 8, 6, 7, 8, 0, 6, 7, 9, 8, 5, 7, 1, 3, 4, 4, 0, 7, 7, 7])"
            ]
          },
          "metadata": {},
          "execution_count": 74
        }
      ]
    },
    {
      "cell_type": "code",
      "source": [
        "from itertools import chain, combinations\n",
        "def all_subsets(ss):\n",
        "    return chain(*map(lambda x: combinations(ss, x), range(0, len(ss)+1)))\n",
        "\n",
        "stuff = [1, 2, 3]\n",
        "output_list = [subset for subset in all_subsets(stuff) if len(subset) == 2]\n",
        "output_list"
      ],
      "metadata": {
        "colab": {
          "base_uri": "https://localhost:8080/"
        },
        "id": "sgc0O9zc_I1G",
        "outputId": "2430abcb-faf4-42ea-a749-3088554391f6"
      },
      "execution_count": null,
      "outputs": [
        {
          "output_type": "execute_result",
          "data": {
            "text/plain": [
              "[(1, 2), (1, 3), (2, 3)]"
            ]
          },
          "metadata": {},
          "execution_count": 78
        }
      ]
    },
    {
      "cell_type": "code",
      "source": [
        "for layer_name in layers:\n",
        "    input_inds = [-1, -2, -3, -4]\n",
        "    pair_combo_list = [subset for subset in all_subsets(input_inds) if len(subset) == 2]\n",
        "    for pc in pair_combo_list:\n",
        "        diffs = sum(activation_nameVal[layer_name][pc[0]] - activation_nameVal[layer_name][pc[1]])\n",
        "        print(layer_name, pc, diffs)"
      ],
      "metadata": {
        "colab": {
          "base_uri": "https://localhost:8080/"
        },
        "id": "iFJOhAJf-6ae",
        "outputId": "8cf060ec-a94c-4f4a-8854-34a2fbc66906"
      },
      "execution_count": null,
      "outputs": [
        {
          "output_type": "stream",
          "name": "stdout",
          "text": [
            "fc1 (-1, -2) tensor(-14.6102)\n",
            "fc1 (-1, -3) tensor(-23.6727)\n",
            "fc1 (-1, -4) tensor(-40.8599)\n",
            "fc1 (-2, -3) tensor(-9.0625)\n",
            "fc1 (-2, -4) tensor(-26.2498)\n",
            "fc1 (-3, -4) tensor(-17.1873)\n",
            "fc2 (-1, -2) tensor(-19.4811)\n",
            "fc2 (-1, -3) tensor(-6.2456)\n",
            "fc2 (-1, -4) tensor(-73.2264)\n",
            "fc2 (-2, -3) tensor(13.2354)\n",
            "fc2 (-2, -4) tensor(-53.7454)\n",
            "fc2 (-3, -4) tensor(-66.9808)\n",
            "fc3 (-1, -2) tensor(0.5870)\n",
            "fc3 (-1, -3) tensor(1.2141)\n",
            "fc3 (-1, -4) tensor(0.4785)\n",
            "fc3 (-2, -3) tensor(0.6271)\n",
            "fc3 (-2, -4) tensor(-0.1085)\n",
            "fc3 (-3, -4) tensor(-0.7356)\n",
            "dropout (-1, -2) tensor(-37.0762)\n",
            "dropout (-1, -3) tensor(-17.4124)\n",
            "dropout (-1, -4) tensor(-80.3028)\n",
            "dropout (-2, -3) tensor(19.6637)\n",
            "dropout (-2, -4) tensor(-43.2266)\n",
            "dropout (-3, -4) tensor(-62.8903)\n"
          ]
        }
      ]
    },
    {
      "cell_type": "markdown",
      "source": [
        "Group all those with -4 together vs those w/o -4. Is there a pattern that distinguishes these two groups? Is it dependent by layer?"
      ],
      "metadata": {
        "id": "4z9PSE4MAC-p"
      }
    },
    {
      "cell_type": "code",
      "source": [],
      "metadata": {
        "id": "r1SkQARRANo1"
      },
      "execution_count": null,
      "outputs": []
    },
    {
      "cell_type": "markdown",
      "source": [
        "You can try an even smaller model that uses less neurons and only compares 0 vs 8. Or 1 vs 7.\n",
        "\n",
        "\"Edge detectors\"\n",
        "\n",
        "Also, instead of using data loader to get random batches, save a batch so it's not random. or use seed."
      ],
      "metadata": {
        "id": "U9_LUXwCBFKw"
      }
    },
    {
      "cell_type": "code",
      "source": [
        "len(train_data)"
      ],
      "metadata": {
        "colab": {
          "base_uri": "https://localhost:8080/"
        },
        "id": "XMivDEWeC85s",
        "outputId": "2bd3b8af-844d-4ad9-fbbd-753ee289d455"
      },
      "execution_count": 14,
      "outputs": [
        {
          "output_type": "execute_result",
          "data": {
            "text/plain": [
              "19999"
            ]
          },
          "metadata": {},
          "execution_count": 14
        }
      ]
    },
    {
      "cell_type": "code",
      "source": [
        "len(train_idx)"
      ],
      "metadata": {
        "colab": {
          "base_uri": "https://localhost:8080/"
        },
        "id": "MdMy64kNEpLB",
        "outputId": "cec5a4f7-fd6f-4bb3-b019-cb7a41675a9e"
      },
      "execution_count": null,
      "outputs": [
        {
          "output_type": "execute_result",
          "data": {
            "text/plain": [
              "16000"
            ]
          },
          "metadata": {},
          "execution_count": 90
        }
      ]
    },
    {
      "cell_type": "code",
      "source": [
        "train_data[0][0].shape"
      ],
      "metadata": {
        "colab": {
          "base_uri": "https://localhost:8080/"
        },
        "id": "F6zbaGBQE4MU",
        "outputId": "4eb4544f-a360-4fed-d4ce-cad67eb37b18"
      },
      "execution_count": null,
      "outputs": [
        {
          "output_type": "execute_result",
          "data": {
            "text/plain": [
              "torch.Size([1, 28, 28])"
            ]
          },
          "metadata": {},
          "execution_count": 98
        }
      ]
    },
    {
      "cell_type": "code",
      "source": [
        "train_data[0][1]"
      ],
      "metadata": {
        "colab": {
          "base_uri": "https://localhost:8080/"
        },
        "id": "BaIFngHBFFkM",
        "outputId": "50c4615e-c078-4b70-b076-ffe221b7de54"
      },
      "execution_count": null,
      "outputs": [
        {
          "output_type": "execute_result",
          "data": {
            "text/plain": [
              "5"
            ]
          },
          "metadata": {},
          "execution_count": 99
        }
      ]
    },
    {
      "cell_type": "code",
      "source": [
        "train_data[1][1]"
      ],
      "metadata": {
        "colab": {
          "base_uri": "https://localhost:8080/"
        },
        "id": "hHN3LrFmE9Cv",
        "outputId": "47560313-5399-46d8-a11b-d34d4e4d82f0"
      },
      "execution_count": null,
      "outputs": [
        {
          "output_type": "execute_result",
          "data": {
            "text/plain": [
              "7"
            ]
          },
          "metadata": {},
          "execution_count": 100
        }
      ]
    },
    {
      "cell_type": "code",
      "source": [
        "inds_0 = []\n",
        "for id in range(len(train_data)):\n",
        "    if train_data[id][1] == 0:\n",
        "        inds_0.append(id)"
      ],
      "metadata": {
        "id": "PTZOiiruE_Tj"
      },
      "execution_count": 15,
      "outputs": []
    },
    {
      "cell_type": "code",
      "source": [
        "len(inds_0)"
      ],
      "metadata": {
        "colab": {
          "base_uri": "https://localhost:8080/"
        },
        "id": "pz50nqx5FgLp",
        "outputId": "ae0dfce3-ce98-475c-adf9-57be67743c58"
      },
      "execution_count": 16,
      "outputs": [
        {
          "output_type": "execute_result",
          "data": {
            "text/plain": [
              "1962"
            ]
          },
          "metadata": {},
          "execution_count": 16
        }
      ]
    },
    {
      "cell_type": "code",
      "source": [
        "fig = plt.figure(figsize=(25, 4))\n",
        "for num, idx in enumerate(inds_0[0:20]):\n",
        "    ax = fig.add_subplot(2, 20/2, num+1, xticks=[], yticks=[])\n",
        "    ax.imshow(np.squeeze(train_data[idx][0]), cmap='gray')\n",
        "    # print out the correct label for each image\n",
        "    # .item() gets the value contained in a Tensor\n",
        "    # ax.set_title(str(labels[idx].item()))"
      ],
      "metadata": {
        "colab": {
          "base_uri": "https://localhost:8080/",
          "height": 169
        },
        "id": "r0tRDl4eF87S",
        "outputId": "3be788cf-a7fc-43f1-e821-60695f29d61c"
      },
      "execution_count": 17,
      "outputs": [
        {
          "output_type": "display_data",
          "data": {
            "text/plain": [
              "<Figure size 1800x288 with 20 Axes>"
            ],
            "image/png": "[encoded data removed]"
          },
          "metadata": {}
        }
      ]
    },
    {
      "cell_type": "markdown",
      "source": [
        "# Modify weights\n",
        "\n"
      ],
      "metadata": {
        "id": "0Fb_e74hMidM"
      }
    },
    {
      "cell_type": "code",
      "source": [
        "inds_0[0]"
      ],
      "metadata": {
        "colab": {
          "base_uri": "https://localhost:8080/"
        },
        "id": "ZqdvnUE3cB3l",
        "outputId": "bc644b54-3a0b-4bf4-d337-84b68febf147"
      },
      "execution_count": 48,
      "outputs": [
        {
          "output_type": "execute_result",
          "data": {
            "text/plain": [
              "5"
            ]
          },
          "metadata": {},
          "execution_count": 48
        }
      ]
    },
    {
      "cell_type": "code",
      "source": [
        "train_data.__getitem__(5)[1]"
      ],
      "metadata": {
        "colab": {
          "base_uri": "https://localhost:8080/"
        },
        "id": "85n8kk00Z6VG",
        "outputId": "b2d19aa4-fdbd-4ab1-d8ce-3712c2c27454"
      },
      "execution_count": 49,
      "outputs": [
        {
          "output_type": "execute_result",
          "data": {
            "text/plain": [
              "0"
            ]
          },
          "metadata": {},
          "execution_count": 49
        }
      ]
    },
    {
      "cell_type": "code",
      "source": [
        "train_data.__getitem__(5)[0]"
      ],
      "metadata": {
        "id": "DMd-VI3VcF0y"
      },
      "execution_count": null,
      "outputs": []
    },
    {
      "cell_type": "code",
      "source": [
        "out = model(train_data.__getitem__(5)[0])"
      ],
      "metadata": {
        "id": "UlIHtipBZBeG"
      },
      "execution_count": 50,
      "outputs": []
    },
    {
      "cell_type": "code",
      "source": [
        "out"
      ],
      "metadata": {
        "colab": {
          "base_uri": "https://localhost:8080/"
        },
        "id": "WiveOZPncPQo",
        "outputId": "63094365-76dd-4a7c-b36b-448a41312026"
      },
      "execution_count": 52,
      "outputs": [
        {
          "output_type": "execute_result",
          "data": {
            "text/plain": [
              "tensor([[15.6173, -8.2198,  6.6368, -0.1823, -9.3209,  0.7847, -0.4946,  0.0670,\n",
              "         -6.0369, -1.2912]], grad_fn=<AddmmBackward0>)"
            ]
          },
          "metadata": {},
          "execution_count": 52
        }
      ]
    },
    {
      "cell_type": "code",
      "source": [
        "for ly in model.named_modules():\n",
        "    if ly[0] != '' and ly[0] != 'dropout':\n",
        "        print(ly[1].weight.data)"
      ],
      "metadata": {
        "id": "d1MLYd3zXCC9"
      },
      "execution_count": null,
      "outputs": []
    },
    {
      "cell_type": "code",
      "source": [
        "layers = ['fc1', 'fc2', 'fc3']\n",
        "for ly in model.named_modules():\n",
        "    if ly[0] == 'fc1':\n",
        "        print(ly[1].weight.data.shape)"
      ],
      "metadata": {
        "colab": {
          "base_uri": "https://localhost:8080/"
        },
        "id": "dJ9CBTgzXkf-",
        "outputId": "88d98c4c-ec9d-4021-a892-c0ab2b2de893"
      },
      "execution_count": 36,
      "outputs": [
        {
          "output_type": "stream",
          "name": "stdout",
          "text": [
            "torch.Size([512, 512])\n"
          ]
        }
      ]
    },
    {
      "cell_type": "markdown",
      "source": [
        "Neurons are rows in weights (for go into neuron) and cols in next layer weight matrix (for go out of neuron). To knockout a neuron, set all weights in the incoming weight matrix to 0, and also to outgoing weight matrix.\n",
        "\n",
        "Before modifying neurons, let's modify a single weight."
      ],
      "metadata": {
        "id": "WL9UXVYAYQPf"
      }
    },
    {
      "cell_type": "code",
      "source": [
        "model_copy = copy.deepcopy(model)"
      ],
      "metadata": {
        "id": "GyuoaSIEYdVh"
      },
      "execution_count": 83,
      "outputs": []
    },
    {
      "cell_type": "code",
      "source": [
        "for ly in model_copy.named_modules():\n",
        "    if ly[0] == 'fc1':\n",
        "        layer_0_to_1_weights = ly[1].weight.data"
      ],
      "metadata": {
        "id": "MXiru_9ydIKN"
      },
      "execution_count": 84,
      "outputs": []
    },
    {
      "cell_type": "markdown",
      "source": [
        "Set entire first row to 0. Every single pixel (out of 784) that goes into first neuron (out of 512) is 'blocked'. Thus the outcoming activations will also be blocked if bias is set to 0."
      ],
      "metadata": {
        "id": "UMIPfoOGeMap"
      }
    },
    {
      "cell_type": "code",
      "source": [
        "layer_0_to_1_weights[0] = 0"
      ],
      "metadata": {
        "id": "CTGunBvweDFG"
      },
      "execution_count": 85,
      "outputs": []
    },
    {
      "cell_type": "code",
      "source": [
        "for ly in model_copy.named_modules():\n",
        "    if ly[0] == 'fc1':\n",
        "        print(layer_0_to_1_weights)"
      ],
      "metadata": {
        "colab": {
          "base_uri": "https://localhost:8080/"
        },
        "id": "i81SWWiNeG6U",
        "outputId": "fb6f0c25-0e18-4fd2-87e1-ad4b67d85b45"
      },
      "execution_count": 86,
      "outputs": [
        {
          "output_type": "stream",
          "name": "stdout",
          "text": [
            "tensor([[ 0.0000,  0.0000,  0.0000,  ...,  0.0000,  0.0000,  0.0000],\n",
            "        [-0.0049,  0.0246,  0.0163,  ..., -0.0185, -0.0082,  0.0146],\n",
            "        [-0.0130, -0.0197,  0.0202,  ..., -0.0347,  0.0135, -0.0022],\n",
            "        ...,\n",
            "        [-0.0291,  0.0301,  0.0201,  ..., -0.0129,  0.0162,  0.0297],\n",
            "        [-0.0276, -0.0149, -0.0290,  ...,  0.0331,  0.0246, -0.0305],\n",
            "        [-0.0231, -0.0138,  0.0048,  ...,  0.0214, -0.0013,  0.0294]])\n"
          ]
        }
      ]
    },
    {
      "cell_type": "code",
      "source": [
        "out = model_copy(train_data.__getitem__(5)[0])\n",
        "out"
      ],
      "metadata": {
        "colab": {
          "base_uri": "https://localhost:8080/"
        },
        "id": "k9_AIaG8effs",
        "outputId": "0c40499d-4706-49cd-9f6b-4dd285ebdf0c"
      },
      "execution_count": 87,
      "outputs": [
        {
          "output_type": "execute_result",
          "data": {
            "text/plain": [
              "tensor([[15.4554, -7.5636,  5.6183,  1.0914, -9.2264,  0.3566, -1.5256,  0.6211,\n",
              "         -6.5946, -0.4437]], grad_fn=<AddmmBackward0>)"
            ]
          },
          "metadata": {},
          "execution_count": 87
        }
      ]
    },
    {
      "cell_type": "markdown",
      "source": [
        "ISSUE: Dropout is random, so get diff output values each run"
      ],
      "metadata": {
        "id": "hR8Lfmcse6dg"
      }
    },
    {
      "cell_type": "code",
      "source": [
        "torch.argmax(out).item()"
      ],
      "metadata": {
        "colab": {
          "base_uri": "https://localhost:8080/"
        },
        "id": "Wv3QrYjme5iz",
        "outputId": "4e933592-a4c0-4924-8986-11eefb5433c5"
      },
      "execution_count": 90,
      "outputs": [
        {
          "output_type": "execute_result",
          "data": {
            "text/plain": [
              "0"
            ]
          },
          "metadata": {},
          "execution_count": 90
        }
      ]
    },
    {
      "cell_type": "code",
      "source": [
        "for weight in range(512):\n",
        "    model_copy = copy.deepcopy(model)\n",
        "    for ly in model_copy.named_modules():\n",
        "        if ly[0] == 'fc1':\n",
        "            layer_0_to_1_weights = ly[1].weight.data\n",
        "            break\n",
        "    layer_0_to_1_weights[weight] = 0\n",
        "    out = model_copy(train_data.__getitem__(5)[0])\n",
        "    if torch.argmax(out).item() != 0:\n",
        "        print(weight, torch.argmax(out).item())"
      ],
      "metadata": {
        "id": "3RKLjlgKf0Mn"
      },
      "execution_count": 91,
      "outputs": []
    },
    {
      "cell_type": "code",
      "source": [
        "model_copy = copy.deepcopy(model)\n",
        "for ly in model_copy.named_modules():\n",
        "    if ly[0] == 'fc1':\n",
        "        layer_0_to_1_weights = ly[1].weight.data\n",
        "        break\n",
        "layer_0_to_1_weights[layer_0_to_1_weights !=0] = 0\n",
        "for ly in model_copy.named_modules():\n",
        "    if ly[0] == 'fc1':\n",
        "        print(layer_0_to_1_weights)"
      ],
      "metadata": {
        "colab": {
          "base_uri": "https://localhost:8080/"
        },
        "id": "GtQFrRPFgavN",
        "outputId": "bb760899-90eb-40a1-a358-5d02dbd0cbc7"
      },
      "execution_count": 92,
      "outputs": [
        {
          "output_type": "stream",
          "name": "stdout",
          "text": [
            "tensor([[0., 0., 0.,  ..., 0., 0., 0.],\n",
            "        [0., 0., 0.,  ..., 0., 0., 0.],\n",
            "        [0., 0., 0.,  ..., 0., 0., 0.],\n",
            "        ...,\n",
            "        [0., 0., 0.,  ..., 0., 0., 0.],\n",
            "        [0., 0., 0.,  ..., 0., 0., 0.],\n",
            "        [0., 0., 0.,  ..., 0., 0., 0.]])\n"
          ]
        }
      ]
    },
    {
      "cell_type": "code",
      "source": [
        "out = model_copy(train_data.__getitem__(5)[0])\n",
        "out"
      ],
      "metadata": {
        "colab": {
          "base_uri": "https://localhost:8080/"
        },
        "id": "W5iaeVEzhAu-",
        "outputId": "7547ef64-9ef8-4c14-fa13-ee320c264e0c"
      },
      "execution_count": 93,
      "outputs": [
        {
          "output_type": "execute_result",
          "data": {
            "text/plain": [
              "tensor([[-0.4796,  0.2182, -0.3352, -0.9927,  0.5191,  1.8772,  0.0308,  0.3985,\n",
              "         -1.1687, -0.1355]], grad_fn=<AddmmBackward0>)"
            ]
          },
          "metadata": {},
          "execution_count": 93
        }
      ]
    },
    {
      "cell_type": "code",
      "source": [
        "if torch.argmax(out).item() != 0:\n",
        "    print(torch.argmax(out).item())"
      ],
      "metadata": {
        "colab": {
          "base_uri": "https://localhost:8080/"
        },
        "id": "EORpH1bbitup",
        "outputId": "57f3060f-bf88-4dfa-a7e9-2c0cde20ca8b"
      },
      "execution_count": 95,
      "outputs": [
        {
          "output_type": "stream",
          "name": "stdout",
          "text": [
            "5\n"
          ]
        }
      ]
    },
    {
      "cell_type": "markdown",
      "source": [
        "Changing a single neuron row still allows it to recognize 0. Destroying the 1st layer obviously makes it fail; that's an extreme case.\n",
        "\n",
        "So for mid-cases, let's destroy combos of neurons. Maybe binary search? Dynamic programming?"
      ],
      "metadata": {
        "id": "5FQ202Gei4Hs"
      }
    },
    {
      "cell_type": "code",
      "source": [
        "weights_to_destroy = list(range(256))\n",
        "\n",
        "model_copy = copy.deepcopy(model)\n",
        "for ly in model_copy.named_modules():\n",
        "    if ly[0] == 'fc1':\n",
        "        layer_0_to_1_weights = ly[1].weight.data\n",
        "        break\n",
        "for weight in weights_to_destroy:\n",
        "    layer_0_to_1_weights[weight] = 0\n",
        "out = model_copy(train_data.__getitem__(5)[0])\n",
        "if torch.argmax(out).item() != 0:\n",
        "    print(torch.argmax(out).item())"
      ],
      "metadata": {
        "id": "ueMCiUYBjCce"
      },
      "execution_count": 97,
      "outputs": []
    },
    {
      "cell_type": "code",
      "source": [
        "out"
      ],
      "metadata": {
        "colab": {
          "base_uri": "https://localhost:8080/"
        },
        "id": "J7-1qVazjdnI",
        "outputId": "5629d295-2cfa-4540-8a31-fef1c51fe210"
      },
      "execution_count": 98,
      "outputs": [
        {
          "output_type": "execute_result",
          "data": {
            "text/plain": [
              "tensor([[ 7.3655e+00, -4.4257e+00,  2.4717e+00,  1.3028e+00, -6.4183e+00,\n",
              "          2.0776e+00, -9.2014e-01,  3.2406e-03, -2.5161e+00, -2.2169e-01]],\n",
              "       grad_fn=<AddmmBackward0>)"
            ]
          },
          "metadata": {},
          "execution_count": 98
        }
      ]
    },
    {
      "cell_type": "code",
      "source": [
        "weights_to_destroy = list(range(400))\n",
        "\n",
        "model_copy = copy.deepcopy(model)\n",
        "for ly in model_copy.named_modules():\n",
        "    if ly[0] == 'fc1':\n",
        "        layer_0_to_1_weights = ly[1].weight.data\n",
        "        break\n",
        "for weight in weights_to_destroy:\n",
        "    layer_0_to_1_weights[weight] = 0\n",
        "out = model_copy(train_data.__getitem__(5)[0])\n",
        "if torch.argmax(out).item() != 0:\n",
        "    print(torch.argmax(out).item())"
      ],
      "metadata": {
        "id": "oUftsYrbjjHG"
      },
      "execution_count": 99,
      "outputs": []
    },
    {
      "cell_type": "code",
      "source": [
        "out"
      ],
      "metadata": {
        "colab": {
          "base_uri": "https://localhost:8080/"
        },
        "id": "J2UkfwvFjmrO",
        "outputId": "f88c8883-d18d-4432-9d5d-778bc9667bc7"
      },
      "execution_count": 100,
      "outputs": [
        {
          "output_type": "execute_result",
          "data": {
            "text/plain": [
              "tensor([[ 3.3306, -1.7898,  1.1541,  0.2265, -2.8633,  2.9666,  0.4339, -1.1646,\n",
              "         -1.4329, -1.0655]], grad_fn=<AddmmBackward0>)"
            ]
          },
          "metadata": {},
          "execution_count": 100
        }
      ]
    },
    {
      "cell_type": "code",
      "source": [
        "weights_to_destroy = list(range(500))\n",
        "\n",
        "model_copy = copy.deepcopy(model)\n",
        "for ly in model_copy.named_modules():\n",
        "    if ly[0] == 'fc1':\n",
        "        layer_0_to_1_weights = ly[1].weight.data\n",
        "        break\n",
        "for weight in weights_to_destroy:\n",
        "    layer_0_to_1_weights[weight] = 0\n",
        "out = model_copy(train_data.__getitem__(5)[0])\n",
        "if torch.argmax(out).item() != 0:\n",
        "    print(torch.argmax(out).item())"
      ],
      "metadata": {
        "colab": {
          "base_uri": "https://localhost:8080/"
        },
        "id": "u6ODLevAjoQO",
        "outputId": "2bafa590-0d79-4df8-f29d-4ce7faadc69f"
      },
      "execution_count": 101,
      "outputs": [
        {
          "output_type": "stream",
          "name": "stdout",
          "text": [
            "5\n"
          ]
        }
      ]
    },
    {
      "cell_type": "markdown",
      "source": [
        "So even at 400 first layer neurons gone, it can still recognize 0 (though its performance overall may be bad). But at 500, it fails. So try binary searching. Note more combos where it fails (non-consecutive neurons in matrix) may exist."
      ],
      "metadata": {
        "id": "9O7qGqNQjt_B"
      }
    },
    {
      "cell_type": "code",
      "source": [
        "weights_to_destroy = list(range(450))\n",
        "\n",
        "model_copy = copy.deepcopy(model)\n",
        "for ly in model_copy.named_modules():\n",
        "    if ly[0] == 'fc1':\n",
        "        layer_0_to_1_weights = ly[1].weight.data\n",
        "        break\n",
        "for weight in weights_to_destroy:\n",
        "    layer_0_to_1_weights[weight] = 0\n",
        "out = model_copy(train_data.__getitem__(5)[0])\n",
        "if torch.argmax(out).item() != 0:\n",
        "    print(torch.argmax(out).item())"
      ],
      "metadata": {
        "colab": {
          "base_uri": "https://localhost:8080/"
        },
        "id": "rVg3q0IRjtft",
        "outputId": "053f4f1f-cf84-4272-ff0a-2133de55a06c"
      },
      "execution_count": 102,
      "outputs": [
        {
          "output_type": "stream",
          "name": "stdout",
          "text": [
            "5\n"
          ]
        }
      ]
    },
    {
      "cell_type": "code",
      "source": [
        "weights_to_destroy = list(range(425))\n",
        "\n",
        "model_copy = copy.deepcopy(model)\n",
        "for ly in model_copy.named_modules():\n",
        "    if ly[0] == 'fc1':\n",
        "        layer_0_to_1_weights = ly[1].weight.data\n",
        "        break\n",
        "for weight in weights_to_destroy:\n",
        "    layer_0_to_1_weights[weight] = 0\n",
        "out = model_copy(train_data.__getitem__(5)[0])\n",
        "if torch.argmax(out).item() != 0:\n",
        "    print(torch.argmax(out).item())"
      ],
      "metadata": {
        "colab": {
          "base_uri": "https://localhost:8080/"
        },
        "id": "PvrNeirTkCn0",
        "outputId": "08fce8b2-c60f-4ec9-d690-efad50d76d08"
      },
      "execution_count": 103,
      "outputs": [
        {
          "output_type": "stream",
          "name": "stdout",
          "text": [
            "7\n"
          ]
        }
      ]
    },
    {
      "cell_type": "code",
      "source": [
        "weights_to_destroy = list(range(412))\n",
        "\n",
        "model_copy = copy.deepcopy(model)\n",
        "for ly in model_copy.named_modules():\n",
        "    if ly[0] == 'fc1':\n",
        "        layer_0_to_1_weights = ly[1].weight.data\n",
        "        break\n",
        "for weight in weights_to_destroy:\n",
        "    layer_0_to_1_weights[weight] = 0\n",
        "out = model_copy(train_data.__getitem__(5)[0])\n",
        "if torch.argmax(out).item() != 0:\n",
        "    print(torch.argmax(out).item())"
      ],
      "metadata": {
        "id": "qJv2jzchkQvE"
      },
      "execution_count": 104,
      "outputs": []
    },
    {
      "cell_type": "code",
      "source": [
        "weights_to_destroy = list(range(418))\n",
        "\n",
        "model_copy = copy.deepcopy(model)\n",
        "for ly in model_copy.named_modules():\n",
        "    if ly[0] == 'fc1':\n",
        "        layer_0_to_1_weights = ly[1].weight.data\n",
        "        break\n",
        "for weight in weights_to_destroy:\n",
        "    layer_0_to_1_weights[weight] = 0\n",
        "out = model_copy(train_data.__getitem__(5)[0])\n",
        "if torch.argmax(out).item() != 0:\n",
        "    print(torch.argmax(out).item())"
      ],
      "metadata": {
        "id": "mERnqeB8kTQT"
      },
      "execution_count": 105,
      "outputs": []
    },
    {
      "cell_type": "code",
      "source": [
        "weights_to_destroy = list(range(421))\n",
        "\n",
        "model_copy = copy.deepcopy(model)\n",
        "for ly in model_copy.named_modules():\n",
        "    if ly[0] == 'fc1':\n",
        "        layer_0_to_1_weights = ly[1].weight.data\n",
        "        break\n",
        "for weight in weights_to_destroy:\n",
        "    layer_0_to_1_weights[weight] = 0\n",
        "out = model_copy(train_data.__getitem__(5)[0])\n",
        "if torch.argmax(out).item() != 0:\n",
        "    print(torch.argmax(out).item())"
      ],
      "metadata": {
        "id": "LyBQKCsDkWIu"
      },
      "execution_count": 106,
      "outputs": []
    },
    {
      "cell_type": "code",
      "source": [
        "weights_to_destroy = list(range(423))\n",
        "\n",
        "model_copy = copy.deepcopy(model)\n",
        "for ly in model_copy.named_modules():\n",
        "    if ly[0] == 'fc1':\n",
        "        layer_0_to_1_weights = ly[1].weight.data\n",
        "        break\n",
        "for weight in weights_to_destroy:\n",
        "    layer_0_to_1_weights[weight] = 0\n",
        "out = model_copy(train_data.__getitem__(5)[0])\n",
        "if torch.argmax(out).item() != 0:\n",
        "    print(torch.argmax(out).item())"
      ],
      "metadata": {
        "colab": {
          "base_uri": "https://localhost:8080/"
        },
        "id": "-ieRM_sJkYuN",
        "outputId": "fabae7cf-8895-4c4c-a3ad-1da976e2f26b"
      },
      "execution_count": 107,
      "outputs": [
        {
          "output_type": "stream",
          "name": "stdout",
          "text": [
            "5\n"
          ]
        }
      ]
    },
    {
      "cell_type": "code",
      "source": [
        "out"
      ],
      "metadata": {
        "colab": {
          "base_uri": "https://localhost:8080/"
        },
        "id": "K2bOnnkVkiFY",
        "outputId": "bae233f0-7cec-47b9-f97f-6345bfcf6cd3"
      },
      "execution_count": 108,
      "outputs": [
        {
          "output_type": "execute_result",
          "data": {
            "text/plain": [
              "tensor([[ 2.5940, -0.7208,  1.0590, -0.5884, -1.6612,  3.1647, -0.0438,  1.0911,\n",
              "         -3.3205, -1.8568]], grad_fn=<AddmmBackward0>)"
            ]
          },
          "metadata": {},
          "execution_count": 108
        }
      ]
    },
    {
      "cell_type": "markdown",
      "source": [
        "Plot how the prob changes over time as more weights destroyed."
      ],
      "metadata": {
        "id": "aYMm1p_MkaTN"
      }
    },
    {
      "cell_type": "markdown",
      "source": [
        "## Modify weights for multiple input images"
      ],
      "metadata": {
        "id": "VKKFsn2lklMy"
      }
    },
    {
      "cell_type": "markdown",
      "source": [
        "For each image, destroy 1st layer weights, cutting it in half until class is 'restored' back to 0. Save the image index and this 'number of neurons' metric."
      ],
      "metadata": {
        "id": "L9cHydRBk4p2"
      }
    },
    {
      "cell_type": "code",
      "source": [
        "# binary search (impelment later)\n",
        "# https://www.geeksforgeeks.org/python-program-for-binary-search/\n",
        "\n",
        "image_neuron_list = []\n",
        "for img_ind in ind_0:\n",
        "    num_w = 512\n",
        "    while True:\n",
        "        weights_to_destroy = list(range(num_w))\n",
        "\n",
        "        model_copy = copy.deepcopy(model)\n",
        "        for ly in model_copy.named_modules():\n",
        "            if ly[0] == 'fc1':\n",
        "                layer_0_to_1_weights = ly[1].weight.data\n",
        "                break\n",
        "        for weight in weights_to_destroy:\n",
        "            layer_0_to_1_weights[weight] = 0\n",
        "        out = model_copy(train_data.__getitem__(5)[0])\n",
        "        '''if new midpt reaches corr label, go right. else, go left. b/c answer val midpt will always be bigger, so this is an \n",
        "        'easier' version of binary search. end when new bigger value is also 'correct label' '''\n",
        "        ''' 512 wrong -> 256 right -> 400 right -> 450 right -> 475 wrong -> 460; end b/c 475-460 is 'within threshold' '''\n",
        "        ''' 512 wrong -> 256 right -> 400 wrong -> 300 .... '''\n",
        "\n",
        "        '''based on examples, go right if 'corr label', go left if 'wrong label'. left is between closest val that gets corr label\n",
        "        and right is b/w curr val and closest val that gets wrong label'''\n",
        "\n",
        "        # if torch.argmax(out).item() == 0:\n",
        "        #     image_neuron_list.append(img_ind, num_w)\n",
        "        #     break\n",
        "        # else:\n",
        "        #     num_w"
      ],
      "metadata": {
        "id": "I8QCFMX1krL8"
      },
      "execution_count": null,
      "outputs": []
    },
    {
      "cell_type": "markdown",
      "source": [
        "Actually b/c output val is close to 512, it's prob faster to just increment down by 1."
      ],
      "metadata": {
        "id": "POB1dd6Qo5kK"
      }
    },
    {
      "cell_type": "code",
      "source": [
        "# just output at first val that's correct by going down 1 increment\n",
        "\n",
        "import pdb\n",
        "\n",
        "image_neuron_list = []\n",
        "neuron_list = []\n",
        "for img_ind in inds_0:\n",
        "    num_w = 512\n",
        "    while True:\n",
        "        weights_to_destroy = list(range(num_w))\n",
        "\n",
        "        model_copy = copy.deepcopy(model)\n",
        "        for ly in model_copy.named_modules():\n",
        "            if ly[0] == 'fc1':\n",
        "                layer_0_to_1_weights = ly[1].weight.data\n",
        "                break\n",
        "        for weight in weights_to_destroy:\n",
        "            layer_0_to_1_weights[weight] = 0\n",
        "        out = model_copy(train_data.__getitem__(img_ind)[0])\n",
        "        if torch.argmax(out).item() == 0:\n",
        "            image_neuron_list.append((img_ind, num_w))\n",
        "            neuron_list.append(num_w)\n",
        "            break\n",
        "        else:\n",
        "            num_w -= 1"
      ],
      "metadata": {
        "colab": {
          "base_uri": "https://localhost:8080/",
          "height": 241
        },
        "id": "1b8Rjv-InFMB",
        "outputId": "dfde6c96-fa5d-49fe-b16d-f89d4099bde4"
      },
      "execution_count": 120,
      "outputs": [
        {
          "output_type": "error",
          "ename": "KeyboardInterrupt",
          "evalue": "ignored",
          "traceback": [
            "\u001b[0;31m---------------------------------------------------------------------------\u001b[0m",
            "\u001b[0;31mKeyboardInterrupt\u001b[0m                         Traceback (most recent call last)",
            "\u001b[0;32m<ipython-input-120-73dc23759ed6>\u001b[0m in \u001b[0;36m<module>\u001b[0;34m\u001b[0m\n\u001b[1;32m     16\u001b[0m                 \u001b[0;32mbreak\u001b[0m\u001b[0;34m\u001b[0m\u001b[0;34m\u001b[0m\u001b[0m\n\u001b[1;32m     17\u001b[0m         \u001b[0;32mfor\u001b[0m \u001b[0mweight\u001b[0m \u001b[0;32min\u001b[0m \u001b[0mweights_to_destroy\u001b[0m\u001b[0;34m:\u001b[0m\u001b[0;34m\u001b[0m\u001b[0;34m\u001b[0m\u001b[0m\n\u001b[0;32m---> 18\u001b[0;31m             \u001b[0mlayer_0_to_1_weights\u001b[0m\u001b[0;34m[\u001b[0m\u001b[0mweight\u001b[0m\u001b[0;34m]\u001b[0m \u001b[0;34m=\u001b[0m \u001b[0;36m0\u001b[0m\u001b[0;34m\u001b[0m\u001b[0;34m\u001b[0m\u001b[0m\n\u001b[0m\u001b[1;32m     19\u001b[0m         \u001b[0mout\u001b[0m \u001b[0;34m=\u001b[0m \u001b[0mmodel_copy\u001b[0m\u001b[0;34m(\u001b[0m\u001b[0mtrain_data\u001b[0m\u001b[0;34m.\u001b[0m\u001b[0m__getitem__\u001b[0m\u001b[0;34m(\u001b[0m\u001b[0mimg_ind\u001b[0m\u001b[0;34m)\u001b[0m\u001b[0;34m[\u001b[0m\u001b[0;36m0\u001b[0m\u001b[0;34m]\u001b[0m\u001b[0;34m)\u001b[0m\u001b[0;34m\u001b[0m\u001b[0;34m\u001b[0m\u001b[0m\n\u001b[1;32m     20\u001b[0m         \u001b[0;32mif\u001b[0m \u001b[0mtorch\u001b[0m\u001b[0;34m.\u001b[0m\u001b[0margmax\u001b[0m\u001b[0;34m(\u001b[0m\u001b[0mout\u001b[0m\u001b[0;34m)\u001b[0m\u001b[0;34m.\u001b[0m\u001b[0mitem\u001b[0m\u001b[0;34m(\u001b[0m\u001b[0;34m)\u001b[0m \u001b[0;34m==\u001b[0m \u001b[0;36m0\u001b[0m\u001b[0;34m:\u001b[0m\u001b[0;34m\u001b[0m\u001b[0;34m\u001b[0m\u001b[0m\n",
            "\u001b[0;31mKeyboardInterrupt\u001b[0m: "
          ]
        }
      ]
    },
    {
      "cell_type": "code",
      "source": [
        "len(image_neuron_list)"
      ],
      "metadata": {
        "colab": {
          "base_uri": "https://localhost:8080/"
        },
        "id": "5n_esMfOni1F",
        "outputId": "32444888-c4a2-4af3-ef68-fc7631eb6cda"
      },
      "execution_count": 122,
      "outputs": [
        {
          "output_type": "execute_result",
          "data": {
            "text/plain": [
              "364"
            ]
          },
          "metadata": {},
          "execution_count": 122
        }
      ]
    },
    {
      "cell_type": "code",
      "source": [
        "plt.hist(neuron_list, 10)"
      ],
      "metadata": {
        "colab": {
          "base_uri": "https://localhost:8080/",
          "height": 337
        },
        "id": "mOZAiCWTou3-",
        "outputId": "0642fc91-7981-4b90-9ca7-d41bb784cd5e"
      },
      "execution_count": 123,
      "outputs": [
        {
          "output_type": "execute_result",
          "data": {
            "text/plain": [
              "(array([  2.,   3.,   3.,  13.,  13.,  35.,  61., 145.,  63.,  26.]),\n",
              " array([329. , 342.8, 356.6, 370.4, 384.2, 398. , 411.8, 425.6, 439.4,\n",
              "        453.2, 467. ]),\n",
              " <a list of 10 Patch objects>)"
            ]
          },
          "metadata": {},
          "execution_count": 123
        },
        {
          "output_type": "display_data",
          "data": {
            "text/plain": [
              "<Figure size 432x288 with 1 Axes>"
            ],
            "image/png": "[encoded data removed]"
          },
          "metadata": {
            "needs_background": "light"
          }
        }
      ]
    },
    {
      "cell_type": "markdown",
      "source": [
        "# Actv Max\n",
        "\n",
        "https://github.com/christianversloot/machine-learning-articles/blob/main/visualizing-keras-model-inputs-with-activation-maximization.md\n",
        "\n",
        "https://punndeeplearningblog.com/tutorial/visualizing-deep-learning/"
      ],
      "metadata": {
        "id": "tXn3Ey3VpdRN"
      }
    },
    {
      "cell_type": "markdown",
      "source": [
        "# Compare slight mods\n",
        "\n",
        "---\n",
        "Now slightly modify the input and see what happens to each layer!\n",
        "\n",
        "Try different modification levels\n"
      ],
      "metadata": {
        "id": "aARB9Xwa0V8c"
      }
    },
    {
      "cell_type": "code",
      "source": [
        "input_2 = x_train[0] + torch.tensor([0.1,0])\n",
        "input_2"
      ],
      "metadata": {
        "colab": {
          "base_uri": "https://localhost:8080/"
        },
        "id": "5B30L-rM0ZAB",
        "outputId": "4fa64dc4-0b0d-4967-d243-945487a45aa1"
      },
      "execution_count": null,
      "outputs": [
        {
          "output_type": "execute_result",
          "data": {
            "text/plain": [
              "tensor([ 0.6815, -8.9559])"
            ]
          },
          "metadata": {},
          "execution_count": 50
        }
      ]
    },
    {
      "cell_type": "code",
      "source": [
        "for layer_name in layers:\n",
        "    print(get_activations(input_2, layer_name))"
      ],
      "metadata": {
        "colab": {
          "base_uri": "https://localhost:8080/"
        },
        "id": "-7uJ3bIo2hzL",
        "outputId": "29991dec-06a0-4a90-cb5d-8a9c8d7825a4"
      },
      "execution_count": null,
      "outputs": [
        {
          "output_type": "stream",
          "name": "stdout",
          "text": [
            "{'fc1': tensor([7.9596, 8.3923])}\n",
            "{'relu': tensor([7.9596, 8.3923])}\n",
            "{'fc2': tensor([3.2521])}\n",
            "{'sigmoid': tensor([0.9627])}\n"
          ]
        }
      ]
    },
    {
      "cell_type": "markdown",
      "source": [
        "\n",
        "\n",
        "---\n",
        "\n"
      ],
      "metadata": {
        "id": "BVw04gwQ2wLU"
      }
    },
    {
      "cell_type": "code",
      "source": [
        "input_3 = x_train[0] + torch.tensor([1,0])\n",
        "for layer_name in layers:\n",
        "    print(get_activations(input_3, layer_name))"
      ],
      "metadata": {
        "colab": {
          "base_uri": "https://localhost:8080/"
        },
        "id": "stI_JviE2xAn",
        "outputId": "55397655-cdf4-4289-95eb-553cb58ba913"
      },
      "execution_count": null,
      "outputs": [
        {
          "output_type": "stream",
          "name": "stdout",
          "text": [
            "{'fc1': tensor([8.1595, 8.5033])}\n",
            "{'relu': tensor([8.1595, 8.5033])}\n",
            "{'fc2': tensor([3.0181])}\n",
            "{'sigmoid': tensor([0.9534])}\n"
          ]
        }
      ]
    },
    {
      "cell_type": "code",
      "source": [
        "model.fc1.weight.data"
      ],
      "metadata": {
        "colab": {
          "base_uri": "https://localhost:8080/"
        },
        "id": "sA-1kCxl87ng",
        "outputId": "dd5dd08a-1364-4962-f5fe-03ad29aef09f"
      },
      "execution_count": null,
      "outputs": [
        {
          "output_type": "execute_result",
          "data": {
            "text/plain": [
              "tensor([[ 0.2221, -0.5793],\n",
              "        [ 0.1234, -1.1833]])"
            ]
          },
          "metadata": {},
          "execution_count": 56
        }
      ]
    },
    {
      "cell_type": "code",
      "source": [
        "torch.matmul(model.fc1.weight.data, input_2 ) + model.fc1.bias"
      ],
      "metadata": {
        "colab": {
          "base_uri": "https://localhost:8080/"
        },
        "id": "9tefs7by9Lll",
        "outputId": "e1cb1714-ec42-4b4a-edb0-beecc88acf67"
      },
      "execution_count": null,
      "outputs": [
        {
          "output_type": "execute_result",
          "data": {
            "text/plain": [
              "tensor([7.9596, 8.3923], grad_fn=<AddBackward0>)"
            ]
          },
          "metadata": {},
          "execution_count": 61
        }
      ]
    },
    {
      "cell_type": "markdown",
      "source": [
        "Find a local motif. This is a local circuit?"
      ],
      "metadata": {
        "id": "sRR8YgAK29ID"
      }
    },
    {
      "cell_type": "markdown",
      "source": [
        "## Compare mods as interpolate from 1 number to another\n",
        "\n",
        "Eg) Transform input 0 to 8"
      ],
      "metadata": {
        "id": "GZPame7r8PMw"
      }
    }
  ]
}