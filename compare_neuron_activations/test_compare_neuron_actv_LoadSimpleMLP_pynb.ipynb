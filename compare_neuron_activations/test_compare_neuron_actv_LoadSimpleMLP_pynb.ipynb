{
  "nbformat": 4,
  "nbformat_minor": 0,
  "metadata": {
    "colab": {
      "provenance": []
    },
    "kernelspec": {
      "name": "python3",
      "display_name": "Python 3"
    },
    "language_info": {
      "name": "python"
    }
  },
  "cells": [
    {
      "cell_type": "markdown",
      "source": [
        "https://medium.com/biaslyai/pytorch-introduction-to-neural-network-feedforward-neural-network-model-e7231cff47cb"
      ],
      "metadata": {
        "id": "fjXPiaYf3JUe"
      }
    },
    {
      "cell_type": "code",
      "source": [
        "%%capture\n",
        "import torch\n",
        "import copy\n",
        "import matplotlib.pyplot as plt\n",
        "import numpy as np\n",
        "import os \n",
        "# import torchvision.models as models\n",
        "# from torchvision import transforms\n",
        "# from PIL import Image"
      ],
      "metadata": {
        "id": "oI54g5-954Ei"
      },
      "execution_count": 1,
      "outputs": []
    },
    {
      "cell_type": "code",
      "source": [
        "class Feedforward(torch.nn.Module):\n",
        "        def __init__(self, input_size, hidden_size):\n",
        "            super(Feedforward, self).__init__()\n",
        "            self.input_size = input_size\n",
        "            self.hidden_size  = hidden_size\n",
        "            self.fc1 = torch.nn.Linear(self.input_size, self.hidden_size)\n",
        "            self.relu = torch.nn.ReLU()\n",
        "            self.fc2 = torch.nn.Linear(self.hidden_size, 1)\n",
        "            self.sigmoid = torch.nn.Sigmoid()\n",
        "        def forward(self, x):\n",
        "            hidden = self.fc1(x)\n",
        "            relu = self.relu(hidden)\n",
        "            output = self.fc2(relu)\n",
        "            output = self.sigmoid(output)\n",
        "            return output"
      ],
      "metadata": {
        "id": "mSBMQ-0Z7QAk"
      },
      "execution_count": 2,
      "outputs": []
    },
    {
      "cell_type": "code",
      "source": [
        "model = Feedforward(2, 10)\n",
        "criterion = torch.nn.BCELoss()\n",
        "optimizer = torch.optim.SGD(model.parameters(), lr = 0.01)"
      ],
      "metadata": {
        "id": "iiisCNBx69JC"
      },
      "execution_count": 18,
      "outputs": []
    },
    {
      "cell_type": "code",
      "source": [
        "# get previous last layer name\n",
        "named_layers = dict(model.named_modules())\n",
        "layers = list(named_layers.keys())\n",
        "\n",
        "# too many branches, so just get the converged branch points\n",
        "# '' is first layer, the input, so disregard it\n",
        "layers = [x for x in layers if '.' not in x and x != '']  "
      ],
      "metadata": {
        "id": "yy5KYfSz5_Uk"
      },
      "execution_count": 4,
      "outputs": []
    },
    {
      "cell_type": "code",
      "source": [
        "layers"
      ],
      "metadata": {
        "colab": {
          "base_uri": "https://localhost:8080/"
        },
        "id": "3IfyDxoH718P",
        "outputId": "b82a52ef-bfd0-4b82-fb3f-f342c0bda82a"
      },
      "execution_count": 5,
      "outputs": [
        {
          "output_type": "execute_result",
          "data": {
            "text/plain": [
              "['fc1', 'relu', 'fc2', 'sigmoid']"
            ]
          },
          "metadata": {},
          "execution_count": 5
        }
      ]
    },
    {
      "cell_type": "code",
      "source": [
        "# CREATE RANDOM DATA POINTS\n",
        "from sklearn.datasets import make_blobs\n",
        "def blob_label(y, label, loc): # assign labels\n",
        "    target = np.copy(y)\n",
        "    for l in loc:\n",
        "        target[y == l] = label\n",
        "    return target\n",
        "x_train, y_train = make_blobs(n_samples=40, n_features=2, cluster_std=1.5, shuffle=True)\n",
        "x_train = torch.FloatTensor(x_train)\n",
        "y_train = torch.FloatTensor(blob_label(y_train, 0, [0]))\n",
        "y_train = torch.FloatTensor(blob_label(y_train, 1, [1,2,3]))\n",
        "x_test, y_test = make_blobs(n_samples=10, n_features=2, cluster_std=1.5, shuffle=True)\n",
        "x_test = torch.FloatTensor(x_test)\n",
        "y_test = torch.FloatTensor(blob_label(y_test, 0, [0]))\n",
        "y_test = torch.FloatTensor(blob_label(y_test, 1, [1,2,3]))"
      ],
      "metadata": {
        "id": "Bh0213vQy8_Q"
      },
      "execution_count": 7,
      "outputs": []
    },
    {
      "cell_type": "code",
      "source": [
        "model.eval()\n",
        "y_pred = model(x_test)\n",
        "before_train = criterion(y_pred.squeeze(), y_test)\n",
        "print('Test loss before training' , before_train.item())"
      ],
      "metadata": {
        "colab": {
          "base_uri": "https://localhost:8080/"
        },
        "id": "mIjtEr_G1egc",
        "outputId": "7d8886c1-3f92-410c-8376-fde889b3dc2d"
      },
      "execution_count": 19,
      "outputs": [
        {
          "output_type": "stream",
          "name": "stdout",
          "text": [
            "Test loss before training 0.6539065837860107\n"
          ]
        }
      ]
    },
    {
      "cell_type": "code",
      "source": [
        "model.train()\n",
        "epoch = 20\n",
        "\n",
        "for epoch in range(epoch):\n",
        "    optimizer.zero_grad()\n",
        "    # Forward pass\n",
        "    y_pred = model(x_train)\n",
        "    # Compute Loss\n",
        "    loss = criterion(y_pred.squeeze(), y_train)\n",
        "   \n",
        "    print('Epoch {}: train loss: {}'.format(epoch, loss.item()))\n",
        "    # Backward pass\n",
        "    loss.backward()\n",
        "    optimizer.step()"
      ],
      "metadata": {
        "colab": {
          "base_uri": "https://localhost:8080/"
        },
        "id": "MVkrObyb1PeJ",
        "outputId": "55a1800e-2267-44bf-b6e2-4bb9a2474533"
      },
      "execution_count": 20,
      "outputs": [
        {
          "output_type": "stream",
          "name": "stdout",
          "text": [
            "Epoch 0: train loss: 0.9788061380386353\n",
            "Epoch 1: train loss: 0.9468582272529602\n",
            "Epoch 2: train loss: 0.9171887636184692\n",
            "Epoch 3: train loss: 0.8895515203475952\n",
            "Epoch 4: train loss: 0.863621711730957\n",
            "Epoch 5: train loss: 0.8392621874809265\n",
            "Epoch 6: train loss: 0.8165897130966187\n",
            "Epoch 7: train loss: 0.7953654527664185\n",
            "Epoch 8: train loss: 0.7753307819366455\n",
            "Epoch 9: train loss: 0.7564679980278015\n",
            "Epoch 10: train loss: 0.7386595010757446\n",
            "Epoch 11: train loss: 0.7218672633171082\n",
            "Epoch 12: train loss: 0.7059515714645386\n",
            "Epoch 13: train loss: 0.6907398104667664\n",
            "Epoch 14: train loss: 0.6762267351150513\n",
            "Epoch 15: train loss: 0.6624606251716614\n",
            "Epoch 16: train loss: 0.6494895219802856\n",
            "Epoch 17: train loss: 0.6371070146560669\n",
            "Epoch 18: train loss: 0.6252530217170715\n",
            "Epoch 19: train loss: 0.6138989925384521\n"
          ]
        }
      ]
    },
    {
      "cell_type": "code",
      "source": [
        "model.eval()\n",
        "y_pred = model(x_test)\n",
        "after_train = criterion(y_pred.squeeze(), y_test) \n",
        "print('Test loss after Training' , after_train.item())"
      ],
      "metadata": {
        "colab": {
          "base_uri": "https://localhost:8080/"
        },
        "id": "1_Pc66SL1oRj",
        "outputId": "2b05601f-69f9-4af5-8e0f-28e0fc686565"
      },
      "execution_count": 21,
      "outputs": [
        {
          "output_type": "stream",
          "name": "stdout",
          "text": [
            "Test loss after Training 0.6083815693855286\n"
          ]
        }
      ]
    },
    {
      "cell_type": "markdown",
      "source": [
        "\n",
        "\n",
        "---\n",
        "# Get Activations\n"
      ],
      "metadata": {
        "id": "XhlF5lry1pIK"
      }
    },
    {
      "cell_type": "code",
      "source": [
        "x_train[0]"
      ],
      "metadata": {
        "colab": {
          "base_uri": "https://localhost:8080/"
        },
        "id": "E3lVGVVmzBqj",
        "outputId": "dbb758a5-d3df-492b-cc50-937860adb2eb"
      },
      "execution_count": 9,
      "outputs": [
        {
          "output_type": "execute_result",
          "data": {
            "text/plain": [
              "tensor([ 8.0379, -2.2177])"
            ]
          },
          "metadata": {},
          "execution_count": 9
        }
      ]
    },
    {
      "cell_type": "code",
      "source": [
        "y_train[0]"
      ],
      "metadata": {
        "colab": {
          "base_uri": "https://localhost:8080/"
        },
        "id": "GCUNermw2OFl",
        "outputId": "4fdd4a0a-4f2d-48e8-e936-d4410d08f7c0"
      },
      "execution_count": 23,
      "outputs": [
        {
          "output_type": "execute_result",
          "data": {
            "text/plain": [
              "tensor(0.)"
            ]
          },
          "metadata": {},
          "execution_count": 23
        }
      ]
    },
    {
      "cell_type": "code",
      "source": [
        "# input = torch.randn(1, 1, 32, 32)\n",
        "input = x_train[0]\n",
        "out = model(input)\n",
        "print(out)"
      ],
      "metadata": {
        "colab": {
          "base_uri": "https://localhost:8080/"
        },
        "id": "84qBVB8S3Hq_",
        "outputId": "babacfac-3e1a-48b5-e009-57ba4f433da9"
      },
      "execution_count": 22,
      "outputs": [
        {
          "output_type": "stream",
          "name": "stdout",
          "text": [
            "tensor([0.5239], grad_fn=<SigmoidBackward0>)\n"
          ]
        }
      ]
    },
    {
      "cell_type": "code",
      "source": [
        "def get_activations(input, layer_name):\n",
        "    activation = {}\n",
        "    def get_activation(name):\n",
        "        def hook(model, input, output):\n",
        "            activation[name] = output.detach()\n",
        "        return hook\n",
        "\n",
        "    for name_to_check, layer in model.named_modules():\n",
        "        if name_to_check == layer_name:\n",
        "            break\n",
        "    layer.register_forward_hook(get_activation(layer_name))\n",
        "    \n",
        "    output = model(input)\n",
        "\n",
        "    return activation.copy()  #else will return the same actvs of model"
      ],
      "metadata": {
        "id": "NifeiLth3bGl"
      },
      "execution_count": 10,
      "outputs": []
    },
    {
      "cell_type": "code",
      "source": [
        "for layer_name in layers:\n",
        "    print(get_activations(input, layer_name))"
      ],
      "metadata": {
        "colab": {
          "base_uri": "https://localhost:8080/"
        },
        "id": "JUqqWN7I0azP",
        "outputId": "9514164b-9021-4c07-d537-71c50900de56"
      },
      "execution_count": 30,
      "outputs": [
        {
          "output_type": "stream",
          "name": "stdout",
          "text": [
            "{'fc1': tensor([-0.5620, -0.0619,  3.3061, -0.9872, -6.5899, -2.0132, -3.8343, -1.2347,\n",
            "         5.9933,  3.7645])}\n",
            "{'relu': tensor([0.0000, 0.0000, 3.3061, 0.0000, 0.0000, 0.0000, 0.0000, 0.0000, 5.9933,\n",
            "        3.7645])}\n",
            "{'fc2': tensor([0.0956])}\n",
            "{'sigmoid': tensor([0.5239])}\n"
          ]
        }
      ]
    },
    {
      "cell_type": "markdown",
      "source": [
        "\n",
        "\n",
        "---\n",
        "Now slightly modify the input and see what happens to each layer!\n",
        "\n",
        "Try different modification levels\n"
      ],
      "metadata": {
        "id": "aARB9Xwa0V8c"
      }
    },
    {
      "cell_type": "code",
      "source": [
        "input_2 = x_train[0] + torch.tensor([0.1,0])\n",
        "input_2"
      ],
      "metadata": {
        "colab": {
          "base_uri": "https://localhost:8080/"
        },
        "id": "5B30L-rM0ZAB",
        "outputId": "af0a33d9-e49c-4899-e88b-5b298cb8c986"
      },
      "execution_count": 28,
      "outputs": [
        {
          "output_type": "execute_result",
          "data": {
            "text/plain": [
              "tensor([ 8.1379, -2.2177])"
            ]
          },
          "metadata": {},
          "execution_count": 28
        }
      ]
    },
    {
      "cell_type": "code",
      "source": [
        "for layer_name in layers:\n",
        "    print(get_activations(input_2, layer_name))"
      ],
      "metadata": {
        "colab": {
          "base_uri": "https://localhost:8080/"
        },
        "id": "-7uJ3bIo2hzL",
        "outputId": "87e8abdc-6f0e-477b-df3a-d86c2e680dc9"
      },
      "execution_count": 29,
      "outputs": [
        {
          "output_type": "stream",
          "name": "stdout",
          "text": [
            "{'fc1': tensor([-0.5677, -0.0643,  3.3324, -0.9959, -6.6545, -2.0499, -3.8789, -1.2428,\n",
            "         6.0599,  3.8277])}\n",
            "{'relu': tensor([0.0000, 0.0000, 3.3324, 0.0000, 0.0000, 0.0000, 0.0000, 0.0000, 6.0599,\n",
            "        3.8277])}\n",
            "{'fc2': tensor([0.0961])}\n",
            "{'sigmoid': tensor([0.5240])}\n"
          ]
        }
      ]
    },
    {
      "cell_type": "markdown",
      "source": [
        "\n",
        "\n",
        "---\n",
        "\n"
      ],
      "metadata": {
        "id": "BVw04gwQ2wLU"
      }
    },
    {
      "cell_type": "code",
      "source": [
        "input_3 = x_train[0] + torch.tensor([1,0])\n",
        "for layer_name in layers:\n",
        "    print(get_activations(input_3, layer_name))"
      ],
      "metadata": {
        "colab": {
          "base_uri": "https://localhost:8080/"
        },
        "id": "stI_JviE2xAn",
        "outputId": "ecb86d83-6e41-4c8c-b697-ef49f46fa40b"
      },
      "execution_count": 31,
      "outputs": [
        {
          "output_type": "stream",
          "name": "stdout",
          "text": [
            "{'fc1': tensor([-0.6189, -0.0856,  3.5693, -1.0742, -7.2359, -2.3800, -4.2807, -1.3152,\n",
            "         6.6597,  4.3965])}\n",
            "{'relu': tensor([0.0000, 0.0000, 3.5693, 0.0000, 0.0000, 0.0000, 0.0000, 0.0000, 6.6597,\n",
            "        4.3965])}\n",
            "{'fc2': tensor([0.1010])}\n",
            "{'sigmoid': tensor([0.5252])}\n"
          ]
        }
      ]
    },
    {
      "cell_type": "markdown",
      "source": [
        "Find a local motif. This is a local circuit?"
      ],
      "metadata": {
        "id": "sRR8YgAK29ID"
      }
    }
  ]
}