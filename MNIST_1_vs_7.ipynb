{
  "nbformat": 4,
  "nbformat_minor": 0,
  "metadata": {
    "colab": {
      "provenance": [],
      "collapsed_sections": [
        "N0l3Nk6XPLRJ",
        "VKKFsn2lklMy",
        "tXn3Ey3VpdRN",
        "aARB9Xwa0V8c"
      ],
      "authorship_tag": "ABX9TyOox054anf4gfJlMIyXFuu7",
      "include_colab_link": true
    },
    "kernelspec": {
      "name": "python3",
      "display_name": "Python 3"
    },
    "language_info": {
      "name": "python"
    }
  },
  "cells": [
    {
      "cell_type": "markdown",
      "metadata": {
        "id": "view-in-github",
        "colab_type": "text"
      },
      "source": [
        "<a href=\"https://colab.research.google.com/github/wlg1/analogous_neuron_circuit_expms/blob/main/MNIST_1_vs_7.ipynb\" target=\"_parent\"><img src=\"https://colab.research.google.com/assets/colab-badge.svg\" alt=\"Open In Colab\"/></a>"
      ]
    },
    {
      "cell_type": "markdown",
      "source": [
        "https://www.kaggle.com/code/mishra1993/pytorch-multi-layer-perceptron-mnist/notebook\n",
        "\n",
        "https://www.kaggle.com/code/pinocookie/pytorch-simple-mlp"
      ],
      "metadata": {
        "id": "ChNiF238aroi"
      }
    },
    {
      "cell_type": "code",
      "source": [
        "%%capture\n",
        "import torch\n",
        "import copy\n",
        "import matplotlib.pyplot as plt\n",
        "import numpy as np\n",
        "import pandas as pd\n",
        "import os \n",
        "from torch.utils.data import DataLoader, Dataset\n",
        "import torchvision\n",
        "import torchvision.transforms as transforms\n",
        "from torch.utils.data.sampler import SubsetRandomSampler"
      ],
      "metadata": {
        "id": "oI54g5-954Ei"
      },
      "execution_count": 1,
      "outputs": []
    },
    {
      "cell_type": "markdown",
      "source": [
        "## Dataset Download"
      ],
      "metadata": {
        "id": "VKHK8FYeyJvW"
      }
    },
    {
      "cell_type": "code",
      "source": [
        "%%capture\n",
        "!git clone https://github.com/wlg1/analogous_neuron_circuit_expms.git\n",
        "\n",
        "! pip install kaggle\n",
        "! mkdir ~/.kaggle\n",
        "! cp /content/analogous_neuron_circuit_expms/kaggle.json ~/.kaggle/\n",
        "! chmod 600 ~/.kaggle/kaggle.json\n",
        "! kaggle datasets download digit-recognizer/data\n",
        "! unzip data.zip"
      ],
      "metadata": {
        "id": "6jqpapXntp6W"
      },
      "execution_count": 2,
      "outputs": []
    },
    {
      "cell_type": "code",
      "source": [
        "class Dataset(object):\n",
        "    \"\"\"An abstract class representing a Dataset.\n",
        "    All other datasets should subclass it. All subclasses should override\n",
        "    ``__len__``, that provides the size of the dataset, and ``__getitem__``,\n",
        "    supporting integer indexing in range from 0 to len(self) exclusive.\n",
        "    \"\"\"\n",
        "\n",
        "    def __getitem__(self, index):\n",
        "        raise NotImplementedError\n",
        "\n",
        "    def __len__(self):\n",
        "        raise NotImplementedError"
      ],
      "metadata": {
        "id": "8MnvzGOkuOt8"
      },
      "execution_count": 3,
      "outputs": []
    },
    {
      "cell_type": "markdown",
      "source": [
        "*italicized text*# Get 1s and 7s only"
      ],
      "metadata": {
        "id": "libye0djr9ds"
      }
    },
    {
      "cell_type": "code",
      "source": [
        "class TrainMNIST(Dataset):\n",
        "    \n",
        "    def __init__(self, file_path, transform=None):\n",
        "        self.data = pd.read_csv(file_path)\n",
        "        self.transform = transform\n",
        "\n",
        "        ones = self.data.loc[self.data.iloc[:,0] == 1] \n",
        "        sevens = self.data.loc[self.data.iloc[:,0] == 7] \n",
        "        self.data = pd.concat([ones, sevens])\n",
        "        \n",
        "    def __len__(self):\n",
        "        return len(self.data)\n",
        "    \n",
        "    def __getitem__(self, index):\n",
        "        # load image as ndarray type (Height * Width * Channels)\n",
        "        # be carefull for converting dtype to np.uint8 [Unsigned integer (0 to 255)]\n",
        "        # in this example, we use ToTensor(), so we define the numpy array like (H, W, C)\n",
        "        image = self.data.iloc[index, 1:].values.astype(np.uint8).reshape((28, 28, 1))\n",
        "        label = self.data.iloc[index, 0]\n",
        "        \n",
        "        if self.transform is not None:\n",
        "            image = self.transform(image)\n",
        "            \n",
        "        return image, label\n",
        "        \n",
        "class TestMNIST(Dataset):\n",
        "    \n",
        "    def __init__(self, file_path, transform=None):\n",
        "        self.data = pd.read_csv(file_path)\n",
        "        self.transform = transform\n",
        "\n",
        "        ones = self.data.loc[self.data.iloc[:,0] == 1] \n",
        "        sevens = self.data.loc[self.data.iloc[:,0] == 7] \n",
        "        self.data = pd.concat([ones, sevens])\n",
        "        \n",
        "    def __len__(self):\n",
        "        return len(self.data)\n",
        "    \n",
        "    def __getitem__(self, index):\n",
        "        # load image as ndarray type (Height * Width * Channels)\n",
        "        # be carefull for converting dtype to np.uint8 [Unsigned integer (0 to 255)]\n",
        "        # in this example, we use ToTensor(), so we define the numpy array like (H, W, C)\n",
        "        # image = self.data.iloc[index, 0:].values.astype(np.uint8).reshape((28, 28, 1))\n",
        "        image = self.data.iloc[index, 1:].values.astype(np.uint8).reshape((28, 28, 1))\n",
        "        \n",
        "        if self.transform is not None:\n",
        "            image = self.transform(image)\n",
        "            \n",
        "        return image"
      ],
      "metadata": {
        "id": "WdbHQmz7uPKO"
      },
      "execution_count": 4,
      "outputs": []
    },
    {
      "cell_type": "code",
      "source": [
        "train_data = TrainMNIST('/content/sample_data/mnist_train_small.csv', transform=transforms.ToTensor())\n",
        "test_data = TestMNIST('/content/sample_data/mnist_test.csv', transform=transforms.ToTensor())"
      ],
      "metadata": {
        "id": "dpptJgRCuRvu"
      },
      "execution_count": 5,
      "outputs": []
    },
    {
      "cell_type": "code",
      "source": [
        "# number of subprocesses to use for data loading\n",
        "num_workers = 0\n",
        "# how many samples per batch to load\n",
        "batch_size = 20\n",
        "# percentage of training set to use as validation\n",
        "valid_size = 0.2\n",
        "\n",
        "# convert data to torch.FloatTensor\n",
        "#transform = transforms.ToTensor()\n",
        "\n",
        "# obtain training indices that will be used for validation\n",
        "# num_train = len(train_data)\n",
        "num_train = len(train_data)\n",
        "indices = list(range(num_train))\n",
        "np.random.shuffle(indices)\n",
        "split = int(np.floor(valid_size * num_train))\n",
        "train_idx, valid_idx = indices[split:], indices[:split]\n",
        "\n",
        "# define samplers for obtaining training and validation batches\n",
        "train_sampler = SubsetRandomSampler(train_idx)\n",
        "valid_sampler = SubsetRandomSampler(valid_idx)\n",
        "\n",
        "# prepare data loaders\n",
        "train_loader = torch.utils.data.DataLoader(train_data, batch_size=batch_size,\n",
        "    sampler=train_sampler, num_workers=num_workers,)\n",
        "valid_loader = torch.utils.data.DataLoader(train_data, batch_size=batch_size, \n",
        "    sampler=valid_sampler, num_workers=num_workers)"
      ],
      "metadata": {
        "id": "JPLMH6MRwcWG"
      },
      "execution_count": 6,
      "outputs": []
    },
    {
      "cell_type": "code",
      "source": [
        "import matplotlib.pyplot as plt\n",
        "%matplotlib inline\n",
        "    \n",
        "# obtain one batch of training images\n",
        "dataiter = iter(train_loader)\n",
        "images, labels = next(dataiter)\n",
        "images = images.numpy()\n",
        "\n",
        "# plot the images in the batch, along with the corresponding labels\n",
        "fig = plt.figure(figsize=(25, 4))\n",
        "for idx in np.arange(20):\n",
        "    ax = fig.add_subplot(2, int(20/2), idx+1, xticks=[], yticks=[])\n",
        "    ax.imshow(np.squeeze(images[idx]), cmap='gray')\n",
        "    # print out the correct label for each image\n",
        "    # .item() gets the value contained in a Tensor\n",
        "    # ax.set_title(str(labels[idx].item()))"
      ],
      "metadata": {
        "id": "j9l6n28rw42G",
        "colab": {
          "base_uri": "https://localhost:8080/",
          "height": 169
        },
        "outputId": "227787aa-8f4e-47a6-852f-ab297ef1cbf1"
      },
      "execution_count": 7,
      "outputs": [
        {
          "output_type": "display_data",
          "data": {
            "text/plain": [
              "<Figure size 1800x288 with 20 Axes>"
            ],
            "image/png": "[encoded data removed]"
          },
          "metadata": {}
        }
      ]
    },
    {
      "cell_type": "code",
      "source": [
        "img = np.squeeze(images[1])\n",
        "\n",
        "fig = plt.figure(figsize = (12,12)) \n",
        "ax = fig.add_subplot(111)\n",
        "ax.imshow(img, cmap='gray')\n",
        "width, height = img.shape\n",
        "thresh = img.max()/2.5\n",
        "for x in range(width):\n",
        "    for y in range(height):\n",
        "        val = round(img[x][y],2) if img[x][y] !=0 else 0\n",
        "        ax.annotate(str(val), xy=(y,x),\n",
        "                    horizontalalignment='center',\n",
        "                    verticalalignment='center',\n",
        "                    color='white' if img[x][y]<thresh else 'black')"
      ],
      "metadata": {
        "id": "12uLPDe3xU8B",
        "colab": {
          "base_uri": "https://localhost:8080/",
          "height": 700
        },
        "outputId": "7d934725-ab90-4e24-eb42-fa5e95a815a9"
      },
      "execution_count": 8,
      "outputs": [
        {
          "output_type": "display_data",
          "data": {
            "text/plain": [
              "<Figure size 864x864 with 1 Axes>"
            ],
            "image/png": "[encoded data removed]"
          },
          "metadata": {
            "needs_background": "light"
          }
        }
      ]
    },
    {
      "cell_type": "markdown",
      "source": [
        "## Model"
      ],
      "metadata": {
        "id": "DecVdrGOx-GG"
      }
    },
    {
      "cell_type": "code",
      "source": [
        "import torch.nn as nn\n",
        "import torch.nn.functional as F\n",
        "\n",
        "class Net(nn.Module):\n",
        "    def __init__(self):\n",
        "        super(Net, self).__init__()\n",
        "        hidden_1 = 512\n",
        "        hidden_2 = 512\n",
        "        self.fc1 = nn.Linear(28 * 28, hidden_1) # linear layer (784 -> hidden_1)\n",
        "        self.fc2 = nn.Linear(hidden_1, hidden_2)\n",
        "        self.fc3 = nn.Linear(hidden_2, 10)\n",
        "        self.dropout = nn.Dropout(0.2)\n",
        "\n",
        "    def forward(self, x):\n",
        "        x = x.view(-1, 28 * 28) # flatten image input\n",
        "        x = F.relu(self.fc1(x))\n",
        "        x = self.dropout(x)\n",
        "        x = F.relu(self.fc2(x))\n",
        "        x = self.dropout(x)\n",
        "        x = self.fc3(x)\n",
        "        return x\n",
        "\n",
        "model = Net()\n",
        "print(model)"
      ],
      "metadata": {
        "colab": {
          "base_uri": "https://localhost:8080/"
        },
        "id": "VbdWSUgjx5Di",
        "outputId": "5c472102-7492-48bf-fcef-24b1c3460453"
      },
      "execution_count": 9,
      "outputs": [
        {
          "output_type": "stream",
          "name": "stdout",
          "text": [
            "Net(\n",
            "  (fc1): Linear(in_features=784, out_features=512, bias=True)\n",
            "  (fc2): Linear(in_features=512, out_features=512, bias=True)\n",
            "  (fc3): Linear(in_features=512, out_features=10, bias=True)\n",
            "  (dropout): Dropout(p=0.2, inplace=False)\n",
            ")\n"
          ]
        }
      ]
    },
    {
      "cell_type": "code",
      "source": [
        "# specify loss function (categorical cross-entropy)\n",
        "criterion = nn.CrossEntropyLoss()\n",
        "\n",
        "# specify optimizer (stochastic gradient descent) and learning rate = 0.01\n",
        "optimizer = torch.optim.SGD(model.parameters(), lr=0.01)"
      ],
      "metadata": {
        "id": "QRheTNjzyqai"
      },
      "execution_count": 10,
      "outputs": []
    },
    {
      "cell_type": "code",
      "source": [
        "# number of epochs to train the model\n",
        "n_epochs = 50\n",
        "\n",
        "# initialize tracker for minimum validation loss\n",
        "valid_loss_min = np.Inf # set initial \"min\" to infinity\n",
        "\n",
        "for epoch in range(n_epochs):\n",
        "    # monitor training loss\n",
        "    train_loss = 0.0\n",
        "    valid_loss = 0.0\n",
        "    \n",
        "    ###################\n",
        "    # train the model #\n",
        "    ###################\n",
        "    model.train() # prep model for training\n",
        "\n",
        "    for data, target in train_loader:\n",
        "        # clear the gradients of all optimized variables\n",
        "        optimizer.zero_grad()\n",
        "        # forward pass: compute predicted outputs by passing inputs to the model\n",
        "        output = model(data)\n",
        "        # calculate the loss\n",
        "        loss = criterion(output, target)\n",
        "        # backward pass: compute gradient of the loss with respect to model parameters\n",
        "        loss.backward()\n",
        "        # perform a single optimization step (parameter update)\n",
        "        optimizer.step()\n",
        "        # update running training loss\n",
        "        train_loss += loss.item()*data.size(0)\n",
        "        \n",
        "    ######################    \n",
        "    # validate the model #\n",
        "    ######################\n",
        "    model.eval() # prep model for evaluation\n",
        "    for data, target in valid_loader:\n",
        "        # forward pass: compute predicted outputs by passing inputs to the model\n",
        "        output = model(data)\n",
        "        # calculate the loss\n",
        "        loss = criterion(output, target)\n",
        "        # update running validation loss \n",
        "        valid_loss += loss.item()*data.size(0)\n",
        "        \n",
        "    # print training/validation statistics \n",
        "    # calculate average loss over an epoch\n",
        "    train_loss = train_loss/len(train_loader.dataset)\n",
        "    valid_loss = valid_loss/len(valid_loader.dataset)\n",
        "    \n",
        "    print('Epoch: {} \\tTraining Loss: {:.6f} \\tValidation Loss: {:.6f}'.format(\n",
        "        epoch+1, \n",
        "        train_loss,\n",
        "        valid_loss\n",
        "        ))\n",
        "    \n",
        "    # save model if validation loss has decreased\n",
        "    if valid_loss <= valid_loss_min:\n",
        "        print('Validation loss decreased ({:.6f} --> {:.6f}).  Saving model ...'.format(\n",
        "        valid_loss_min,\n",
        "        valid_loss))\n",
        "        torch.save(model.state_dict(), 'model.pt')\n",
        "        valid_loss_min = valid_loss"
      ],
      "metadata": {
        "id": "7OyIKL2wy2R7"
      },
      "execution_count": null,
      "outputs": []
    },
    {
      "cell_type": "markdown",
      "source": [
        "# Test Model"
      ],
      "metadata": {
        "id": "Tn6iQWFaJk2i"
      }
    },
    {
      "cell_type": "code",
      "source": [
        "test_loader = torch.utils.data.DataLoader(test_data, batch_size=batch_size, \n",
        "    num_workers=num_workers)\n",
        "\n",
        "# obtain one batch of test images\n",
        "dataiter = iter(test_loader)\n",
        "images = next(dataiter)\n",
        "\n",
        "# get sample outputs\n",
        "output = model(images)\n",
        "# convert output probabilities to predicted class\n",
        "_, preds = torch.max(output, 1)\n",
        "# prep images for display\n",
        "images = images.numpy()\n",
        "\n",
        "# plot the images in the batch, along with predicted and true labels\n",
        "fig = plt.figure(figsize=(25, 4))\n",
        "for idx in np.arange(20):\n",
        "    ax = fig.add_subplot(2, int(20/2), idx+1, xticks=[], yticks=[])\n",
        "    ax.imshow(np.squeeze(images[idx]), cmap='gray')\n",
        "    ax.set_title(\"{}\".format(str(preds[idx].item())))"
      ],
      "metadata": {
        "id": "R8DkoF8Wy6Kn",
        "colab": {
          "base_uri": "https://localhost:8080/",
          "height": 180
        },
        "outputId": "aec4a490-4199-4df4-d7a7-977bbc8e0617"
      },
      "execution_count": 14,
      "outputs": [
        {
          "output_type": "display_data",
          "data": {
            "text/plain": [
              "<Figure size 1800x288 with 20 Axes>"
            ],
            "image/png": "[encoded data removed]"
          },
          "metadata": {}
        }
      ]
    },
    {
      "cell_type": "markdown",
      "source": [
        "https://stackoverflow.com/questions/23151246/iterrows-pandas-get-next-rows-value"
      ],
      "metadata": {
        "id": "Ry2OByX2dXdE"
      }
    },
    {
      "cell_type": "code",
      "source": [
        "%%capture\n",
        "images = test_data.data.iloc[0, 1:].values.astype(np.uint8).reshape((28, 28, 1))"
      ],
      "metadata": {
        "id": "TzNCRcqhbxDf"
      },
      "execution_count": 15,
      "outputs": []
    },
    {
      "cell_type": "markdown",
      "source": [
        "https://www.mindspore.cn/docs/migration_guide/en/r1.5/api_mapping/pytorch_diff/ToTensor.html"
      ],
      "metadata": {
        "id": "M_OxEjNHfSVK"
      }
    },
    {
      "cell_type": "code",
      "source": [
        "image_transform = transforms.Compose([transforms.ToTensor()])\n",
        "images = image_transform(images)"
      ],
      "metadata": {
        "id": "G-X5jyU-e4Yg"
      },
      "execution_count": 16,
      "outputs": []
    },
    {
      "cell_type": "code",
      "source": [
        "output = model(images)\n",
        "# convert output probabilities to predicted class\n",
        "_, preds = torch.max(output, 1)\n",
        "# prep images for display\n",
        "images = images.numpy()\n",
        "\n",
        "# plot the images in the batch, along with predicted and true labels\n",
        "fig = plt.figure(figsize=(25, 4))\n",
        "for idx in np.arange(1):\n",
        "    ax = fig.add_subplot(2, int(20/2), idx+1, xticks=[], yticks=[])\n",
        "    ax.imshow(np.squeeze(images[idx]), cmap='gray')\n",
        "    ax.set_title(\"{}\".format(str(preds[idx].item())))"
      ],
      "metadata": {
        "colab": {
          "base_uri": "https://localhost:8080/",
          "height": 149
        },
        "id": "pFize2Q8c-OU",
        "outputId": "e6f59752-d851-4f1b-c415-a5cdb2222b15"
      },
      "execution_count": 17,
      "outputs": [
        {
          "output_type": "display_data",
          "data": {
            "text/plain": [
              "<Figure size 1800x288 with 1 Axes>"
            ],
            "image/png": "[encoded data removed]"
          },
          "metadata": {}
        }
      ]
    },
    {
      "cell_type": "code",
      "source": [
        "test_loader = torch.utils.data.DataLoader(test_data, batch_size=1, \n",
        "    num_workers=num_workers)\n",
        "def predict(model, dataloader):\n",
        "    prediction_list = []\n",
        "    for i, batch in enumerate(dataloader):\n",
        "        outputs = model(batch)\n",
        "        _, predicted = torch.max(outputs.data, 1) \n",
        "        prediction_list.append(predicted.cpu())\n",
        "    return prediction_list\n",
        "predictions = predict(model,test_loader)\n",
        "predictions = np.array(predictions)\n",
        "# test_data = pd.read_csv(\"../input/test.csv\")\n",
        "\n",
        "\n",
        "# submission = pd.DataFrame(data={\n",
        "#     \"ImageId\": test_data.index + 1,\n",
        "#     \"Label\": predictions\n",
        "# })\n",
        "# submission.to_csv(\"submission.csv\", index=None)\n",
        "# submission.head(n=12).T"
      ],
      "metadata": {
        "id": "uAozvO2Yy8nV",
        "colab": {
          "base_uri": "https://localhost:8080/"
        },
        "outputId": "ee7328d1-f452-4eb0-cf0b-6a831b9577ad"
      },
      "execution_count": 18,
      "outputs": [
        {
          "output_type": "stream",
          "name": "stderr",
          "text": [
            "<ipython-input-18-3fafeb8b636f>:11: FutureWarning: The input object of type 'Tensor' is an array-like implementing one of the corresponding protocols (`__array__`, `__array_interface__` or `__array_struct__`); but not a sequence (or 0-D). In the future, this object will be coerced as if it was first converted using `np.array(obj)`. To retain the old behaviour, you have to either modify the type 'Tensor', or assign to an empty array created with `np.empty(correct_shape, dtype=object)`.\n",
            "  predictions = np.array(predictions)\n",
            "<ipython-input-18-3fafeb8b636f>:11: VisibleDeprecationWarning: Creating an ndarray from ragged nested sequences (which is a list-or-tuple of lists-or-tuples-or ndarrays with different lengths or shapes) is deprecated. If you meant to do this, you must specify 'dtype=object' when creating the ndarray.\n",
            "  predictions = np.array(predictions)\n"
          ]
        }
      ]
    },
    {
      "cell_type": "code",
      "source": [
        "predictions"
      ],
      "metadata": {
        "colab": {
          "base_uri": "https://localhost:8080/"
        },
        "id": "bwlUvL0RKtON",
        "outputId": "1efcf6c3-d7a8-43f2-847b-aac8f3c94e47"
      },
      "execution_count": 19,
      "outputs": [
        {
          "output_type": "execute_result",
          "data": {
            "text/plain": [
              "array([tensor([1]), tensor([1]), tensor([1]), ..., tensor([7]),\n",
              "       tensor([7]), tensor([7])], dtype=object)"
            ]
          },
          "metadata": {},
          "execution_count": 19
        }
      ]
    },
    {
      "cell_type": "markdown",
      "source": [
        "\n",
        "\n",
        "---\n",
        "# Get Activations\n"
      ],
      "metadata": {
        "id": "XhlF5lry1pIK"
      }
    },
    {
      "cell_type": "code",
      "source": [
        "len(test_data.data.loc[test_data.data.iloc[:,0] == 1])"
      ],
      "metadata": {
        "colab": {
          "base_uri": "https://localhost:8080/"
        },
        "id": "zYVMAfcPMU3G",
        "outputId": "d90200a5-27eb-417b-a354-02d42e0b30e3"
      },
      "execution_count": null,
      "outputs": [
        {
          "output_type": "execute_result",
          "data": {
            "text/plain": [
              "1135"
            ]
          },
          "metadata": {},
          "execution_count": 35
        }
      ]
    },
    {
      "cell_type": "code",
      "source": [
        "test_data.data.shape"
      ],
      "metadata": {
        "colab": {
          "base_uri": "https://localhost:8080/"
        },
        "id": "Jsj3U4HMeQ3V",
        "outputId": "bf532869-faf9-4966-9d01-61aa1b0c0fb2"
      },
      "execution_count": 120,
      "outputs": [
        {
          "output_type": "execute_result",
          "data": {
            "text/plain": [
              "(2162, 785)"
            ]
          },
          "metadata": {},
          "execution_count": 120
        }
      ]
    },
    {
      "cell_type": "code",
      "source": [
        "one_images = 0\n",
        "for i in range(0, 1000):\n",
        "    images = test_data.data.iloc[i, 1:].values.astype(np.uint8).reshape((28, 28, 1))\n",
        "    image_transform = transforms.Compose([transforms.ToTensor()])\n",
        "    images = image_transform(images)\n",
        "    if i == 0:\n",
        "        one_images = images\n",
        "    else:\n",
        "        one_images = torch.cat((one_images, images), 0)\n",
        "one_images.shape"
      ],
      "metadata": {
        "id": "6bYhxteCNhr1",
        "colab": {
          "base_uri": "https://localhost:8080/"
        },
        "outputId": "f6a1081a-daa9-46fc-9905-acde5220525f"
      },
      "execution_count": 121,
      "outputs": [
        {
          "output_type": "execute_result",
          "data": {
            "text/plain": [
              "torch.Size([1000, 28, 28])"
            ]
          },
          "metadata": {},
          "execution_count": 121
        }
      ]
    },
    {
      "cell_type": "code",
      "source": [
        "# output = model(one_images)\n",
        "# _, preds = torch.max(output, 1) # convert output probabilities to predicted class\n",
        "# preds"
      ],
      "metadata": {
        "colab": {
          "base_uri": "https://localhost:8080/"
        },
        "id": "bUt8Vj9jN-Uv",
        "outputId": "2224f857-df19-4aac-8056-703ec6af4fda"
      },
      "execution_count": 86,
      "outputs": [
        {
          "output_type": "execute_result",
          "data": {
            "text/plain": [
              "tensor([1, 1, 1, 1])"
            ]
          },
          "metadata": {},
          "execution_count": 86
        }
      ]
    },
    {
      "cell_type": "code",
      "source": [
        "# get previous last layer name\n",
        "named_layers = dict(model.named_modules())\n",
        "layers = list(named_layers.keys())\n",
        "\n",
        "# '' is first layer, the input, so disregard it\n",
        "layers = [x for x in layers if x != '']  "
      ],
      "metadata": {
        "id": "yy5KYfSz5_Uk"
      },
      "execution_count": 20,
      "outputs": []
    },
    {
      "cell_type": "code",
      "source": [
        "def get_activations(input, layer_name):\n",
        "    activation = {}\n",
        "    def get_activation(name):\n",
        "        def hook(model, input, output):\n",
        "            activation[name] = output.detach()\n",
        "        return hook\n",
        "\n",
        "    for name_to_check, layer in model.named_modules():\n",
        "        if name_to_check == layer_name:\n",
        "            break\n",
        "    layer.register_forward_hook(get_activation(layer_name))\n",
        "    \n",
        "    output = model(input)\n",
        "\n",
        "    return activation.copy()  #else will return the same actvs of model"
      ],
      "metadata": {
        "id": "NifeiLth3bGl"
      },
      "execution_count": 87,
      "outputs": []
    },
    {
      "cell_type": "code",
      "source": [
        "ones_activation_nameVal = {}\n",
        "for layer_name in layers:\n",
        "    ones_activation_nameVal[layer_name] = get_activations(one_images, layer_name)[layer_name]"
      ],
      "metadata": {
        "id": "JUqqWN7I0azP"
      },
      "execution_count": 122,
      "outputs": []
    },
    {
      "cell_type": "code",
      "source": [
        "ones_activation_nameVal['fc1'].shape"
      ],
      "metadata": {
        "colab": {
          "base_uri": "https://localhost:8080/"
        },
        "id": "Js7jTmYm47RP",
        "outputId": "3c57c181-16ce-434a-ebf1-294de5ce170e"
      },
      "execution_count": 123,
      "outputs": [
        {
          "output_type": "execute_result",
          "data": {
            "text/plain": [
              "torch.Size([1000, 512])"
            ]
          },
          "metadata": {},
          "execution_count": 123
        }
      ]
    },
    {
      "cell_type": "code",
      "source": [
        "seven_images = 0\n",
        "for i in range(1136, 2136):\n",
        "    images = test_data.data.iloc[i, 1:].values.astype(np.uint8).reshape((28, 28, 1))\n",
        "    image_transform = transforms.Compose([transforms.ToTensor()])\n",
        "    images = image_transform(images)\n",
        "    if i == 1136:\n",
        "        seven_images = images\n",
        "    else:\n",
        "        seven_images = torch.cat((seven_images, images), 0)\n",
        "seven_images.shape\n",
        "\n",
        "sevens_activation_nameVal = {}\n",
        "for layer_name in layers:\n",
        "    sevens_activation_nameVal[layer_name] = get_activations(seven_images, layer_name)[layer_name]"
      ],
      "metadata": {
        "id": "xUZPDMpLN1KF"
      },
      "execution_count": 175,
      "outputs": []
    },
    {
      "cell_type": "code",
      "source": [
        "output = model(seven_images)\n",
        "_, preds = torch.max(output, 1) # convert output probabilities to predicted class\n",
        "preds.tolist().count(7)"
      ],
      "metadata": {
        "colab": {
          "base_uri": "https://localhost:8080/"
        },
        "id": "XcxA3pn3fJqW",
        "outputId": "be574515-347d-4bfb-e7eb-08349cf0b9a0"
      },
      "execution_count": 177,
      "outputs": [
        {
          "output_type": "execute_result",
          "data": {
            "text/plain": [
              "991"
            ]
          },
          "metadata": {},
          "execution_count": 177
        }
      ]
    },
    {
      "cell_type": "markdown",
      "source": [
        "## Attempt 1: Average each neuron\n",
        "\n",
        "For every neuron, compare within 1s vs within 7s to see which neurons have most drastic differences\n"
      ],
      "metadata": {
        "id": "FSL7MDpE6Sd9"
      }
    },
    {
      "cell_type": "code",
      "source": [
        "layer_name = 'fc1'\n",
        "print(ones_activation_nameVal[layer_name][0][511])\n",
        "print(ones_activation_nameVal[layer_name][1][511])\n",
        "ones_activation_nameVal[layer_name][0][511] + ones_activation_nameVal[layer_name][1][511]"
      ],
      "metadata": {
        "colab": {
          "base_uri": "https://localhost:8080/"
        },
        "id": "7-MSotlzbru-",
        "outputId": "cacf211c-b22f-427e-8499-89f26396ea17"
      },
      "execution_count": 96,
      "outputs": [
        {
          "output_type": "stream",
          "name": "stdout",
          "text": [
            "tensor(-0.0066)\n",
            "tensor(-0.0960)\n"
          ]
        },
        {
          "output_type": "execute_result",
          "data": {
            "text/plain": [
              "tensor(-0.1026)"
            ]
          },
          "metadata": {},
          "execution_count": 96
        }
      ]
    },
    {
      "cell_type": "code",
      "source": [
        "layer_name = 'fc1'\n",
        "for img_ind in range(one_images.shape[0]):\n",
        "    if img_ind == 0:\n",
        "        sum_tensor = ones_activation_nameVal[layer_name][img_ind]\n",
        "    else:\n",
        "        sum_tensor = sum_tensor + ones_activation_nameVal[layer_name][img_ind]\n",
        "avg_tensor_ones = sum_tensor / one_images.shape[0]"
      ],
      "metadata": {
        "id": "iFJOhAJf-6ae"
      },
      "execution_count": 118,
      "outputs": []
    },
    {
      "cell_type": "code",
      "source": [
        "layer_name = 'fc1'\n",
        "for img_ind in range(seven_images.shape[0]):\n",
        "    if img_ind == 0:\n",
        "        sum_tensor = sevens_activation_nameVal[layer_name][img_ind]\n",
        "    else:\n",
        "        sum_tensor = sum_tensor + sevens_activation_nameVal[layer_name][img_ind]\n",
        "avg_tensor_sevens = sum_tensor / seven_images.shape[0]"
      ],
      "metadata": {
        "id": "LUtSvCPZd-F2"
      },
      "execution_count": 134,
      "outputs": []
    },
    {
      "cell_type": "code",
      "source": [
        "diffs = avg_tensor_ones - avg_tensor_sevens"
      ],
      "metadata": {
        "id": "rca7Xk4ih7lI"
      },
      "execution_count": 142,
      "outputs": []
    },
    {
      "cell_type": "code",
      "source": [
        "img = diffs.numpy().reshape((16, 32))\n",
        "\n",
        "fig = plt.figure(figsize = (20,20)) \n",
        "ax = fig.add_subplot(111)\n",
        "ax.imshow(img, cmap='gray')\n",
        "width, height = img.shape\n",
        "thresh = img.max()/2.5\n",
        "for x in range(width):\n",
        "    for y in range(height):\n",
        "        val = round(img[x][y],2) if img[x][y] !=0 else 0\n",
        "        ax.annotate(str(val), xy=(y,x),\n",
        "                    horizontalalignment='center',\n",
        "                    verticalalignment='center',\n",
        "                    color='white' if img[x][y]<thresh else 'black')"
      ],
      "metadata": {
        "colab": {
          "base_uri": "https://localhost:8080/",
          "height": 480
        },
        "id": "Dol0_ScqgBu2",
        "outputId": "f545aba5-3f01-45d7-a352-de0a9bfdf690"
      },
      "execution_count": 157,
      "outputs": [
        {
          "output_type": "display_data",
          "data": {
            "text/plain": [
              "<Figure size 1440x1440 with 1 Axes>"
            ],
            "image/png": "[encoded data removed]"
          },
          "metadata": {}
        }
      ]
    },
    {
      "cell_type": "code",
      "source": [
        "from matplotlib.pyplot import figure\n",
        "import matplotlib.pyplot as plt\n",
        "import matplotlib as mpl\n",
        "mpl.style.use('seaborn')\n",
        "plt.imshow(img, cmap='Reds')\n",
        "plt.xlabel('Timesteps', weight='bold', fontsize=14)\n",
        "plt.show()"
      ],
      "metadata": {
        "colab": {
          "base_uri": "https://localhost:8080/",
          "height": 289
        },
        "id": "W183vUBmlHiE",
        "outputId": "9c30efe4-330e-40b8-cbdb-8eff3630eb98"
      },
      "execution_count": 156,
      "outputs": [
        {
          "output_type": "display_data",
          "data": {
            "text/plain": [
              "<Figure size 576x396 with 1 Axes>"
            ],
            "image/png": "[encoded data removed]"
          },
          "metadata": {}
        }
      ]
    },
    {
      "cell_type": "code",
      "source": [
        "import seaborn\n",
        "fig, ax = plt.subplots()\n",
        "seaborn.heatmap(img)"
      ],
      "metadata": {
        "colab": {
          "base_uri": "https://localhost:8080/",
          "height": 366
        },
        "id": "EOJW-TmblF7X",
        "outputId": "0d94b042-b3a4-4cfd-f901-606a8a1114ac"
      },
      "execution_count": 160,
      "outputs": [
        {
          "output_type": "execute_result",
          "data": {
            "text/plain": [
              "<AxesSubplot:>"
            ]
          },
          "metadata": {},
          "execution_count": 160
        },
        {
          "output_type": "display_data",
          "data": {
            "text/plain": [
              "<Figure size 576x396 with 2 Axes>"
            ],
            "image/png": "[encoded data removed]"
          },
          "metadata": {}
        }
      ]
    },
    {
      "cell_type": "code",
      "source": [
        "plt.hist(diffs, 10)"
      ],
      "metadata": {
        "colab": {
          "base_uri": "https://localhost:8080/",
          "height": 354
        },
        "id": "iXBSnNOWjnZU",
        "outputId": "770c6ae7-7ee6-40ba-936a-eb143f856586"
      },
      "execution_count": 146,
      "outputs": [
        {
          "output_type": "execute_result",
          "data": {
            "text/plain": [
              "(array([  3.,  15.,  23.,  38.,  93., 189.,  89.,  44.,  16.,   2.]),\n",
              " array([-1.1128615 , -0.90891486, -0.7049682 , -0.50102156, -0.2970749 ,\n",
              "        -0.09312826,  0.11081839,  0.31476504,  0.5187117 ,  0.72265834,\n",
              "         0.926605  ], dtype=float32),\n",
              " <BarContainer object of 10 artists>)"
            ]
          },
          "metadata": {},
          "execution_count": 146
        },
        {
          "output_type": "display_data",
          "data": {
            "text/plain": [
              "<Figure size 432x288 with 1 Axes>"
            ],
            "image/png": "[encoded data removed]"
          },
          "metadata": {
            "needs_background": "light"
          }
        }
      ]
    },
    {
      "cell_type": "markdown",
      "source": [
        "Now knockout the ones that are the most diff, and compare to knocking out all other ones.\n",
        "\n",
        "Knockout neurons above a certain threshold."
      ],
      "metadata": {
        "id": "mxn8qDuMiGAu"
      }
    },
    {
      "cell_type": "markdown",
      "source": [
        "\n",
        "\n",
        "---\n",
        "\n",
        "# Modify weights\n",
        "\n"
      ],
      "metadata": {
        "id": "0Fb_e74hMidM"
      }
    },
    {
      "cell_type": "code",
      "source": [
        "for ly in model.named_modules():\n",
        "    if ly[0] != '' and ly[0] != 'dropout':\n",
        "        print(ly[1].weight.data)"
      ],
      "metadata": {
        "id": "d1MLYd3zXCC9"
      },
      "execution_count": null,
      "outputs": []
    },
    {
      "cell_type": "code",
      "source": [
        "layers = ['fc1', 'fc2', 'fc3']\n",
        "for ly in model.named_modules():\n",
        "    if ly[0] == 'fc1':\n",
        "        print(ly[1].weight.data.shape)"
      ],
      "metadata": {
        "colab": {
          "base_uri": "https://localhost:8080/"
        },
        "id": "dJ9CBTgzXkf-",
        "outputId": "88d98c4c-ec9d-4021-a892-c0ab2b2de893"
      },
      "execution_count": null,
      "outputs": [
        {
          "output_type": "stream",
          "name": "stdout",
          "text": [
            "torch.Size([512, 512])\n"
          ]
        }
      ]
    },
    {
      "cell_type": "markdown",
      "source": [
        "Neurons are rows in weights (for go into neuron) and cols in next layer weight matrix (for go out of neuron). To knockout a neuron, set all weights in the incoming weight matrix to 0, and also to outgoing weight matrix.\n",
        "\n",
        "Before modifying neurons, let's modify a single weight."
      ],
      "metadata": {
        "id": "WL9UXVYAYQPf"
      }
    },
    {
      "cell_type": "code",
      "source": [
        "model_copy = copy.deepcopy(model)"
      ],
      "metadata": {
        "id": "GyuoaSIEYdVh"
      },
      "execution_count": null,
      "outputs": []
    },
    {
      "cell_type": "code",
      "source": [
        "for ly in model_copy.named_modules():\n",
        "    if ly[0] == 'fc1':\n",
        "        layer_0_to_1_weights = ly[1].weight.data"
      ],
      "metadata": {
        "id": "MXiru_9ydIKN"
      },
      "execution_count": null,
      "outputs": []
    },
    {
      "cell_type": "markdown",
      "source": [
        "Set entire first row to 0. Every single pixel (out of 784) that goes into first neuron (out of 512) is 'blocked'. Thus the outcoming activations will also be blocked if bias is set to 0."
      ],
      "metadata": {
        "id": "UMIPfoOGeMap"
      }
    },
    {
      "cell_type": "code",
      "source": [
        "layer_0_to_1_weights[0] = 0  # pass by ref"
      ],
      "metadata": {
        "id": "CTGunBvweDFG"
      },
      "execution_count": null,
      "outputs": []
    },
    {
      "cell_type": "code",
      "source": [
        "for ly in model_copy.named_modules():\n",
        "    if ly[0] == 'fc1':\n",
        "        print(layer_0_to_1_weights)  #print(ly[1].weight.data)"
      ],
      "metadata": {
        "colab": {
          "base_uri": "https://localhost:8080/"
        },
        "id": "i81SWWiNeG6U",
        "outputId": "fb6f0c25-0e18-4fd2-87e1-ad4b67d85b45"
      },
      "execution_count": null,
      "outputs": [
        {
          "output_type": "stream",
          "name": "stdout",
          "text": [
            "tensor([[ 0.0000,  0.0000,  0.0000,  ...,  0.0000,  0.0000,  0.0000],\n",
            "        [-0.0049,  0.0246,  0.0163,  ..., -0.0185, -0.0082,  0.0146],\n",
            "        [-0.0130, -0.0197,  0.0202,  ..., -0.0347,  0.0135, -0.0022],\n",
            "        ...,\n",
            "        [-0.0291,  0.0301,  0.0201,  ..., -0.0129,  0.0162,  0.0297],\n",
            "        [-0.0276, -0.0149, -0.0290,  ...,  0.0331,  0.0246, -0.0305],\n",
            "        [-0.0231, -0.0138,  0.0048,  ...,  0.0214, -0.0013,  0.0294]])\n"
          ]
        }
      ]
    },
    {
      "cell_type": "code",
      "source": [
        "out = model_copy(train_data.__getitem__(5)[0])\n",
        "out"
      ],
      "metadata": {
        "colab": {
          "base_uri": "https://localhost:8080/"
        },
        "id": "k9_AIaG8effs",
        "outputId": "0c40499d-4706-49cd-9f6b-4dd285ebdf0c"
      },
      "execution_count": null,
      "outputs": [
        {
          "output_type": "execute_result",
          "data": {
            "text/plain": [
              "tensor([[15.4554, -7.5636,  5.6183,  1.0914, -9.2264,  0.3566, -1.5256,  0.6211,\n",
              "         -6.5946, -0.4437]], grad_fn=<AddmmBackward0>)"
            ]
          },
          "metadata": {},
          "execution_count": 87
        }
      ]
    },
    {
      "cell_type": "markdown",
      "source": [
        "ISSUE: Dropout is random, so get diff output values each run"
      ],
      "metadata": {
        "id": "hR8Lfmcse6dg"
      }
    },
    {
      "cell_type": "code",
      "source": [
        "torch.argmax(out).item()"
      ],
      "metadata": {
        "colab": {
          "base_uri": "https://localhost:8080/"
        },
        "id": "Wv3QrYjme5iz",
        "outputId": "4e933592-a4c0-4924-8986-11eefb5433c5"
      },
      "execution_count": null,
      "outputs": [
        {
          "output_type": "execute_result",
          "data": {
            "text/plain": [
              "0"
            ]
          },
          "metadata": {},
          "execution_count": 90
        }
      ]
    },
    {
      "cell_type": "markdown",
      "source": [
        "## Set weights above threshold to 0 and compare to hist of random weights set to 0\n",
        "\n",
        "Set weights where diff of ones and sevens above certain threshold to 0. Compare with avg of same # of weights chosen randomly set to 0, to see if any sigf. Get histogram of random weights set to 0."
      ],
      "metadata": {
        "id": "Y9OqQThpJDeU"
      }
    },
    {
      "cell_type": "code",
      "source": [
        "num_weights_knockedout = 0\n",
        "model_copy = copy.deepcopy(model)\n",
        "for ly in model_copy.named_modules():\n",
        "    if ly[0] == 'fc1':\n",
        "        layer_0_to_1_weights = ly[1].weight.data\n",
        "        break\n",
        "for weight in range(512):\n",
        "    if abs(diffs[weight]) > 0.25:\n",
        "        layer_0_to_1_weights[weight] = 0\n",
        "        num_weights_knockedout += 1\n",
        "print(num_weights_knockedout)"
      ],
      "metadata": {
        "id": "3RKLjlgKf0Mn",
        "colab": {
          "base_uri": "https://localhost:8080/"
        },
        "outputId": "0d37f910-a11b-4051-b07c-fc3a53a316d9"
      },
      "execution_count": 192,
      "outputs": [
        {
          "output_type": "stream",
          "name": "stdout",
          "text": [
            "173\n"
          ]
        }
      ]
    },
    {
      "cell_type": "code",
      "source": [
        "output = model(seven_images)\n",
        "_, preds = torch.max(output, 1) # convert output probabilities to predicted class\n",
        "preds.tolist().count(7) / len(preds)"
      ],
      "metadata": {
        "colab": {
          "base_uri": "https://localhost:8080/"
        },
        "id": "8AFZ3AKcLcxG",
        "outputId": "7a2db12a-f4d2-42d7-f527-7eaf032b0e98"
      },
      "execution_count": 182,
      "outputs": [
        {
          "output_type": "execute_result",
          "data": {
            "text/plain": [
              "0.991"
            ]
          },
          "metadata": {},
          "execution_count": 182
        }
      ]
    },
    {
      "cell_type": "code",
      "source": [
        "output_afterCorrupt = model_copy(seven_images)\n",
        "_, preds = torch.max(output_afterCorrupt, 1) # convert output probabilities to predicted class\n",
        "preds.tolist().count(7) / len(preds)"
      ],
      "metadata": {
        "colab": {
          "base_uri": "https://localhost:8080/"
        },
        "id": "ekpChjxjK3vx",
        "outputId": "ffa51fcf-df20-45d4-9aa2-b3dd00ad4bab"
      },
      "execution_count": 193,
      "outputs": [
        {
          "output_type": "execute_result",
          "data": {
            "text/plain": [
              "0.228"
            ]
          },
          "metadata": {},
          "execution_count": 193
        }
      ]
    },
    {
      "cell_type": "markdown",
      "source": [
        "Try with 0.5"
      ],
      "metadata": {
        "id": "TAUUL1FQMgs4"
      }
    },
    {
      "cell_type": "code",
      "source": [
        "num_weights_knockedout = 0\n",
        "model_copy_2 = copy.deepcopy(model)\n",
        "for ly in model_copy_2.named_modules():\n",
        "    if ly[0] == 'fc1':\n",
        "        layer_0_to_1_weights = ly[1].weight.data\n",
        "        break\n",
        "for weight in range(512):\n",
        "    if abs(diffs[weight]) > 0.5:\n",
        "        layer_0_to_1_weights[weight] = 0\n",
        "        num_weights_knockedout += 1\n",
        "print(num_weights_knockedout)\n",
        "\n",
        "output_afterCorrupt_2 = model_copy_2(seven_images)\n",
        "_, preds = torch.max(output_afterCorrupt_2, 1) # convert output probabilities to predicted class\n",
        "preds.tolist().count(7) / len(preds)"
      ],
      "metadata": {
        "colab": {
          "base_uri": "https://localhost:8080/"
        },
        "id": "D07_vq8GMked",
        "outputId": "038293f1-4c25-4ee4-a42d-836307718cf7"
      },
      "execution_count": 191,
      "outputs": [
        {
          "output_type": "stream",
          "name": "stdout",
          "text": [
            "61\n"
          ]
        },
        {
          "output_type": "execute_result",
          "data": {
            "text/plain": [
              "0.92"
            ]
          },
          "metadata": {},
          "execution_count": 191
        }
      ]
    },
    {
      "cell_type": "markdown",
      "source": [
        "Try with 0.1"
      ],
      "metadata": {
        "id": "TK7yD7ymM8uO"
      }
    },
    {
      "cell_type": "code",
      "source": [
        "num_weights_knockedout = 0\n",
        "model_copy_2 = copy.deepcopy(model)\n",
        "for ly in model_copy_2.named_modules():\n",
        "    if ly[0] == 'fc1':\n",
        "        layer_0_to_1_weights = ly[1].weight.data\n",
        "        break\n",
        "for weight in range(512):\n",
        "    if abs(diffs[weight]) > 0.1:\n",
        "        layer_0_to_1_weights[weight] = 0\n",
        "        num_weights_knockedout += 1\n",
        "print(num_weights_knockedout)\n",
        "\n",
        "output_afterCorrupt_2 = model_copy_2(seven_images)\n",
        "_, preds = torch.max(output_afterCorrupt_2, 1) # convert output probabilities to predicted class\n",
        "preds.tolist().count(7) / len(preds)"
      ],
      "metadata": {
        "colab": {
          "base_uri": "https://localhost:8080/"
        },
        "id": "6rtf7VEBM-e2",
        "outputId": "d4e07dca-862f-476e-eca9-51105d38ae23"
      },
      "execution_count": 194,
      "outputs": [
        {
          "output_type": "stream",
          "name": "stdout",
          "text": [
            "323\n"
          ]
        },
        {
          "output_type": "execute_result",
          "data": {
            "text/plain": [
              "0.0"
            ]
          },
          "metadata": {},
          "execution_count": 194
        }
      ]
    },
    {
      "cell_type": "markdown",
      "source": [
        "Try at various intervals and plot it"
      ],
      "metadata": {
        "id": "gDbBu3mqNFom"
      }
    },
    {
      "cell_type": "code",
      "source": [
        "thrs_acc = {}\n",
        "thrs_acc_ones = {}\n",
        "for thrs in range(1, 10):\n",
        "    thrs /= 10\n",
        "    num_weights_knockedout = 0\n",
        "    model_copy_2 = copy.deepcopy(model)\n",
        "    for ly in model_copy_2.named_modules():\n",
        "        if ly[0] == 'fc1':\n",
        "            layer_0_to_1_weights = ly[1].weight.data\n",
        "            break\n",
        "    for weight in range(512):\n",
        "        if abs(diffs[weight]) > thrs:\n",
        "            layer_0_to_1_weights[weight] = 0\n",
        "            num_weights_knockedout += 1\n",
        "\n",
        "    output_afterCorrupt_2 = model_copy_2(seven_images)\n",
        "    _, preds = torch.max(output_afterCorrupt_2, 1) # convert output probabilities to predicted class\n",
        "    acc = preds.tolist().count(7) / len(preds)\n",
        "    thrs_acc[thrs] = acc\n",
        "    print(thrs, num_weights_knockedout, acc)\n",
        "\n",
        "    output_afterCorrupt_2 = model_copy_2(one_images)\n",
        "    _, preds = torch.max(output_afterCorrupt_2, 1) # convert output probabilities to predicted class\n",
        "    acc = preds.tolist().count(1) / len(preds)\n",
        "    thrs_acc_ones[thrs] = acc\n",
        "    print(thrs, num_weights_knockedout, acc)"
      ],
      "metadata": {
        "colab": {
          "base_uri": "https://localhost:8080/"
        },
        "id": "wQq1z0CoNH2f",
        "outputId": "9ae068ca-e924-4834-a586-f53532ea8d13"
      },
      "execution_count": 223,
      "outputs": [
        {
          "output_type": "stream",
          "name": "stdout",
          "text": [
            "0.1 323 0.0\n",
            "0.1 323 1.0\n",
            "0.2 205 0.044\n",
            "0.2 205 1.0\n",
            "0.3 142 0.581\n",
            "0.3 142 1.0\n",
            "0.4 94 0.874\n",
            "0.4 94 1.0\n",
            "0.5 61 0.92\n",
            "0.5 61 1.0\n",
            "0.6 31 0.955\n",
            "0.6 31 1.0\n",
            "0.7 21 0.969\n",
            "0.7 21 1.0\n",
            "0.8 14 0.976\n",
            "0.8 14 1.0\n",
            "0.9 5 0.988\n",
            "0.9 5 0.999\n"
          ]
        }
      ]
    },
    {
      "cell_type": "code",
      "source": [
        "import matplotlib.pyplot as plt\n",
        "plt.ylabel('Acc')\n",
        "plt.xlabel('Threshold above to knock out')\n",
        "plt.plot(thrs_acc.keys(), thrs_acc.values())"
      ],
      "metadata": {
        "colab": {
          "base_uri": "https://localhost:8080/",
          "height": 379
        },
        "id": "0-q2tiCLNhoj",
        "outputId": "997e3e8c-90b1-4dcf-af5f-e0bee85b7591"
      },
      "execution_count": 199,
      "outputs": [
        {
          "output_type": "execute_result",
          "data": {
            "text/plain": [
              "[<matplotlib.lines.Line2D at 0x7f3b2ae221c0>]"
            ]
          },
          "metadata": {},
          "execution_count": 199
        },
        {
          "output_type": "display_data",
          "data": {
            "text/plain": [
              "<Figure size 576x396 with 1 Axes>"
            ],
            "image/png": "[encoded data removed]"
          },
          "metadata": {}
        }
      ]
    },
    {
      "cell_type": "code",
      "source": [
        "plt.hist(diffs, 10)"
      ],
      "metadata": {
        "colab": {
          "base_uri": "https://localhost:8080/",
          "height": 436
        },
        "id": "1osUNPbLN9m6",
        "outputId": "e11696f7-0000-4693-c97f-ddd82d80f138"
      },
      "execution_count": 200,
      "outputs": [
        {
          "output_type": "execute_result",
          "data": {
            "text/plain": [
              "(array([  3.,  15.,  23.,  38.,  93., 189.,  89.,  44.,  16.,   2.]),\n",
              " array([-1.1128615 , -0.90891486, -0.7049682 , -0.50102156, -0.2970749 ,\n",
              "        -0.09312826,  0.11081839,  0.31476504,  0.5187117 ,  0.72265834,\n",
              "         0.926605  ], dtype=float32),\n",
              " <BarContainer object of 10 artists>)"
            ]
          },
          "metadata": {},
          "execution_count": 200
        },
        {
          "output_type": "display_data",
          "data": {
            "text/plain": [
              "<Figure size 576x396 with 1 Axes>"
            ],
            "image/png": "[encoded data removed]"
          },
          "metadata": {}
        }
      ]
    },
    {
      "cell_type": "code",
      "source": [
        "sum(abs(i) < 0.2 for i in diffs.tolist() ) / len(diffs)"
      ],
      "metadata": {
        "colab": {
          "base_uri": "https://localhost:8080/"
        },
        "id": "S9LBuRPEORUk",
        "outputId": "790fe402-67d6-449a-d4b5-bd03c04df2c7"
      },
      "execution_count": 205,
      "outputs": [
        {
          "output_type": "execute_result",
          "data": {
            "text/plain": [
              "0.599609375"
            ]
          },
          "metadata": {},
          "execution_count": 205
        }
      ]
    },
    {
      "cell_type": "markdown",
      "source": [
        "Around 60% of neurons fire less than 0.2. Notice that destroying neurons which fire above 0.4 doesn't have as much effect as destroying those above 0.3, and even more so for 0.2. \n",
        "\n",
        "From this, it seems like the 'highest activated neurons' are not so important as the number of neurons firing above some level. Those neurons b/w 0.3 and 0.4 are very impt.\n",
        "\n",
        "Is this because of the % of neurons destroyed, or specifically those neurons above a certain threshold?"
      ],
      "metadata": {
        "id": "UFggDOXbOnPt"
      }
    },
    {
      "cell_type": "markdown",
      "source": [
        "\n",
        "\n",
        "---\n",
        "\n",
        "## Set randoms to 0"
      ],
      "metadata": {
        "id": "n6Sdpj61LADd"
      }
    },
    {
      "cell_type": "code",
      "source": [
        "import random\n",
        "random_destroy_accs = []\n",
        "\n",
        "for i in range(10):\n",
        "    weights_to_destroy = random.sample(range(0, 512), 142)\n",
        "\n",
        "    model_copy = copy.deepcopy(model)\n",
        "    for ly in model_copy.named_modules():\n",
        "        if ly[0] == 'fc1':\n",
        "            layer_0_to_1_weights = ly[1].weight.data\n",
        "            break\n",
        "    for weight in weights_to_destroy:\n",
        "        layer_0_to_1_weights[weight] = 0\n",
        "\n",
        "    output_afterCorrupt = model_copy(seven_images)\n",
        "    _, preds = torch.max(output_afterCorrupt, 1) # convert output probabilities to predicted class\n",
        "    acc = preds.tolist().count(7) / len(preds)\n",
        "    random_destroy_accs.append(acc)\n",
        "print(random_destroy_accs)"
      ],
      "metadata": {
        "colab": {
          "base_uri": "https://localhost:8080/"
        },
        "id": "K4aFsfJtPOXR",
        "outputId": "2af9d133-c928-49b0-8ce9-286e74eafee8"
      },
      "execution_count": 215,
      "outputs": [
        {
          "output_type": "stream",
          "name": "stdout",
          "text": [
            "[0.989, 0.99, 0.986, 0.989, 0.992, 0.992, 0.986, 0.991, 0.99, 0.991]\n"
          ]
        }
      ]
    },
    {
      "cell_type": "markdown",
      "source": [
        "One peculiar thing is that while 7 changes, 1 doesn't. It seems these highly firing neurons above 0.1 are turning 1s into 7s, but not the other way around. \n",
        "\n",
        "HYPOTHESIS: The \"1\" is the default; the \"7\" is if there's something special, like a line above 1."
      ],
      "metadata": {
        "id": "BHyMspm9Rpps"
      }
    },
    {
      "cell_type": "markdown",
      "source": [
        "## Set only neurons b/w 0.3 and 0.4 to 0\n",
        "\n",
        "Is it all the neurons above a threshold, or just these particular neurons?"
      ],
      "metadata": {
        "id": "1lmbCaSiS027"
      }
    },
    {
      "cell_type": "code",
      "source": [
        "thrs = 0.3\n",
        "num_weights_knockedout = 0\n",
        "model_copy_2 = copy.deepcopy(model)\n",
        "for ly in model_copy_2.named_modules():\n",
        "    if ly[0] == 'fc1':\n",
        "        layer_0_to_1_weights = ly[1].weight.data\n",
        "        break\n",
        "for weight in range(512):\n",
        "    if abs(diffs[weight]) > thrs and abs(diffs[weight]) < thrs + 0.1:\n",
        "        layer_0_to_1_weights[weight] = 0\n",
        "        num_weights_knockedout += 1\n",
        "\n",
        "output_afterCorrupt_2 = model_copy_2(seven_images)\n",
        "_, preds = torch.max(output_afterCorrupt_2, 1) # convert output probabilities to predicted class\n",
        "acc = preds.tolist().count(7) / len(preds)\n",
        "thrs_acc[thrs] = acc\n",
        "print(thrs, num_weights_knockedout, acc)"
      ],
      "metadata": {
        "colab": {
          "base_uri": "https://localhost:8080/"
        },
        "id": "rWcBt_9TTUi3",
        "outputId": "7ef90948-6f84-40b2-b0d3-d5ffa6b85740"
      },
      "execution_count": 222,
      "outputs": [
        {
          "output_type": "stream",
          "name": "stdout",
          "text": [
            "0.3 48 0.991\n"
          ]
        }
      ]
    },
    {
      "cell_type": "markdown",
      "source": [
        "It appears that it's all of them working together. \n",
        "\n",
        "So we have narrowed down the list to 142 impt neurons. Which of these, in a subset, work together? There's too many combos to try. \n",
        "\n",
        "Instead of looking for the ENTIRE classification, try 'JUST THE NEXT STEP'. That is, does knocking out a certain combo destroy ONE neuron in the next layer?\n",
        "\n",
        "Which are the highest activating neurons in penultimate layer that are impt for final class neuron of '7'? See which neurons affect those. This is the subproblem. Then, add another neuron to these."
      ],
      "metadata": {
        "id": "_MIK7fh-Tv9h"
      }
    },
    {
      "cell_type": "code",
      "source": [],
      "metadata": {
        "id": "OG81XP8VUAzr"
      },
      "execution_count": null,
      "outputs": []
    },
    {
      "cell_type": "markdown",
      "source": [
        "## Set neurons in ordered list to 0"
      ],
      "metadata": {
        "id": "N0l3Nk6XPLRJ"
      }
    },
    {
      "cell_type": "code",
      "source": [
        "model_copy = copy.deepcopy(model)\n",
        "for ly in model_copy.named_modules():\n",
        "    if ly[0] == 'fc1':\n",
        "        layer_0_to_1_weights = ly[1].weight.data\n",
        "        break\n",
        "layer_0_to_1_weights[layer_0_to_1_weights !=0] = 0\n",
        "for ly in model_copy.named_modules():\n",
        "    if ly[0] == 'fc1':\n",
        "        print(layer_0_to_1_weights)"
      ],
      "metadata": {
        "colab": {
          "base_uri": "https://localhost:8080/"
        },
        "id": "GtQFrRPFgavN",
        "outputId": "bb760899-90eb-40a1-a358-5d02dbd0cbc7"
      },
      "execution_count": null,
      "outputs": [
        {
          "output_type": "stream",
          "name": "stdout",
          "text": [
            "tensor([[0., 0., 0.,  ..., 0., 0., 0.],\n",
            "        [0., 0., 0.,  ..., 0., 0., 0.],\n",
            "        [0., 0., 0.,  ..., 0., 0., 0.],\n",
            "        ...,\n",
            "        [0., 0., 0.,  ..., 0., 0., 0.],\n",
            "        [0., 0., 0.,  ..., 0., 0., 0.],\n",
            "        [0., 0., 0.,  ..., 0., 0., 0.]])\n"
          ]
        }
      ]
    },
    {
      "cell_type": "code",
      "source": [
        "out = model_copy(train_data.__getitem__(5)[0])\n",
        "out"
      ],
      "metadata": {
        "colab": {
          "base_uri": "https://localhost:8080/"
        },
        "id": "W5iaeVEzhAu-",
        "outputId": "7547ef64-9ef8-4c14-fa13-ee320c264e0c"
      },
      "execution_count": null,
      "outputs": [
        {
          "output_type": "execute_result",
          "data": {
            "text/plain": [
              "tensor([[-0.4796,  0.2182, -0.3352, -0.9927,  0.5191,  1.8772,  0.0308,  0.3985,\n",
              "         -1.1687, -0.1355]], grad_fn=<AddmmBackward0>)"
            ]
          },
          "metadata": {},
          "execution_count": 93
        }
      ]
    },
    {
      "cell_type": "code",
      "source": [
        "if torch.argmax(out).item() != 0:\n",
        "    print(torch.argmax(out).item())"
      ],
      "metadata": {
        "colab": {
          "base_uri": "https://localhost:8080/"
        },
        "id": "EORpH1bbitup",
        "outputId": "57f3060f-bf88-4dfa-a7e9-2c0cde20ca8b"
      },
      "execution_count": null,
      "outputs": [
        {
          "output_type": "stream",
          "name": "stdout",
          "text": [
            "5\n"
          ]
        }
      ]
    },
    {
      "cell_type": "markdown",
      "source": [
        "Changing a single neuron row still allows it to recognize 0. Destroying the 1st layer obviously makes it fail; that's an extreme case.\n",
        "\n",
        "So for mid-cases, let's destroy combos of neurons. Maybe binary search? Dynamic programming?"
      ],
      "metadata": {
        "id": "5FQ202Gei4Hs"
      }
    },
    {
      "cell_type": "code",
      "source": [
        "weights_to_destroy = list(range(256))\n",
        "\n",
        "model_copy = copy.deepcopy(model)\n",
        "for ly in model_copy.named_modules():\n",
        "    if ly[0] == 'fc1':\n",
        "        layer_0_to_1_weights = ly[1].weight.data\n",
        "        break\n",
        "for weight in weights_to_destroy:\n",
        "    layer_0_to_1_weights[weight] = 0\n",
        "out = model_copy(train_data.__getitem__(5)[0])\n",
        "if torch.argmax(out).item() != 0:\n",
        "    print(torch.argmax(out).item())"
      ],
      "metadata": {
        "id": "ueMCiUYBjCce"
      },
      "execution_count": null,
      "outputs": []
    },
    {
      "cell_type": "code",
      "source": [
        "out"
      ],
      "metadata": {
        "colab": {
          "base_uri": "https://localhost:8080/"
        },
        "id": "J7-1qVazjdnI",
        "outputId": "5629d295-2cfa-4540-8a31-fef1c51fe210"
      },
      "execution_count": null,
      "outputs": [
        {
          "output_type": "execute_result",
          "data": {
            "text/plain": [
              "tensor([[ 7.3655e+00, -4.4257e+00,  2.4717e+00,  1.3028e+00, -6.4183e+00,\n",
              "          2.0776e+00, -9.2014e-01,  3.2406e-03, -2.5161e+00, -2.2169e-01]],\n",
              "       grad_fn=<AddmmBackward0>)"
            ]
          },
          "metadata": {},
          "execution_count": 98
        }
      ]
    },
    {
      "cell_type": "code",
      "source": [
        "weights_to_destroy = list(range(400))\n",
        "\n",
        "model_copy = copy.deepcopy(model)\n",
        "for ly in model_copy.named_modules():\n",
        "    if ly[0] == 'fc1':\n",
        "        layer_0_to_1_weights = ly[1].weight.data\n",
        "        break\n",
        "for weight in weights_to_destroy:\n",
        "    layer_0_to_1_weights[weight] = 0\n",
        "out = model_copy(train_data.__getitem__(5)[0])\n",
        "if torch.argmax(out).item() != 0:\n",
        "    print(torch.argmax(out).item())"
      ],
      "metadata": {
        "id": "oUftsYrbjjHG"
      },
      "execution_count": null,
      "outputs": []
    },
    {
      "cell_type": "code",
      "source": [
        "out"
      ],
      "metadata": {
        "colab": {
          "base_uri": "https://localhost:8080/"
        },
        "id": "J2UkfwvFjmrO",
        "outputId": "f88c8883-d18d-4432-9d5d-778bc9667bc7"
      },
      "execution_count": null,
      "outputs": [
        {
          "output_type": "execute_result",
          "data": {
            "text/plain": [
              "tensor([[ 3.3306, -1.7898,  1.1541,  0.2265, -2.8633,  2.9666,  0.4339, -1.1646,\n",
              "         -1.4329, -1.0655]], grad_fn=<AddmmBackward0>)"
            ]
          },
          "metadata": {},
          "execution_count": 100
        }
      ]
    },
    {
      "cell_type": "code",
      "source": [
        "weights_to_destroy = list(range(500))\n",
        "\n",
        "model_copy = copy.deepcopy(model)\n",
        "for ly in model_copy.named_modules():\n",
        "    if ly[0] == 'fc1':\n",
        "        layer_0_to_1_weights = ly[1].weight.data\n",
        "        break\n",
        "for weight in weights_to_destroy:\n",
        "    layer_0_to_1_weights[weight] = 0\n",
        "out = model_copy(train_data.__getitem__(5)[0])\n",
        "if torch.argmax(out).item() != 0:\n",
        "    print(torch.argmax(out).item())"
      ],
      "metadata": {
        "colab": {
          "base_uri": "https://localhost:8080/"
        },
        "id": "u6ODLevAjoQO",
        "outputId": "2bafa590-0d79-4df8-f29d-4ce7faadc69f"
      },
      "execution_count": null,
      "outputs": [
        {
          "output_type": "stream",
          "name": "stdout",
          "text": [
            "5\n"
          ]
        }
      ]
    },
    {
      "cell_type": "markdown",
      "source": [
        "So even at 400 first layer neurons gone, it can still recognize 0 (though its performance overall may be bad). But at 500, it fails. So try binary searching. Note more combos where it fails (non-consecutive neurons in matrix) may exist."
      ],
      "metadata": {
        "id": "9O7qGqNQjt_B"
      }
    },
    {
      "cell_type": "code",
      "source": [
        "weights_to_destroy = list(range(450))\n",
        "\n",
        "model_copy = copy.deepcopy(model)\n",
        "for ly in model_copy.named_modules():\n",
        "    if ly[0] == 'fc1':\n",
        "        layer_0_to_1_weights = ly[1].weight.data\n",
        "        break\n",
        "for weight in weights_to_destroy:\n",
        "    layer_0_to_1_weights[weight] = 0\n",
        "out = model_copy(train_data.__getitem__(5)[0])\n",
        "if torch.argmax(out).item() != 0:\n",
        "    print(torch.argmax(out).item())"
      ],
      "metadata": {
        "colab": {
          "base_uri": "https://localhost:8080/"
        },
        "id": "rVg3q0IRjtft",
        "outputId": "053f4f1f-cf84-4272-ff0a-2133de55a06c"
      },
      "execution_count": null,
      "outputs": [
        {
          "output_type": "stream",
          "name": "stdout",
          "text": [
            "5\n"
          ]
        }
      ]
    },
    {
      "cell_type": "code",
      "source": [
        "weights_to_destroy = list(range(425))\n",
        "\n",
        "model_copy = copy.deepcopy(model)\n",
        "for ly in model_copy.named_modules():\n",
        "    if ly[0] == 'fc1':\n",
        "        layer_0_to_1_weights = ly[1].weight.data\n",
        "        break\n",
        "for weight in weights_to_destroy:\n",
        "    layer_0_to_1_weights[weight] = 0\n",
        "out = model_copy(train_data.__getitem__(5)[0])\n",
        "if torch.argmax(out).item() != 0:\n",
        "    print(torch.argmax(out).item())"
      ],
      "metadata": {
        "colab": {
          "base_uri": "https://localhost:8080/"
        },
        "id": "PvrNeirTkCn0",
        "outputId": "08fce8b2-c60f-4ec9-d690-efad50d76d08"
      },
      "execution_count": null,
      "outputs": [
        {
          "output_type": "stream",
          "name": "stdout",
          "text": [
            "7\n"
          ]
        }
      ]
    },
    {
      "cell_type": "code",
      "source": [
        "weights_to_destroy = list(range(412))\n",
        "\n",
        "model_copy = copy.deepcopy(model)\n",
        "for ly in model_copy.named_modules():\n",
        "    if ly[0] == 'fc1':\n",
        "        layer_0_to_1_weights = ly[1].weight.data\n",
        "        break\n",
        "for weight in weights_to_destroy:\n",
        "    layer_0_to_1_weights[weight] = 0\n",
        "out = model_copy(train_data.__getitem__(5)[0])\n",
        "if torch.argmax(out).item() != 0:\n",
        "    print(torch.argmax(out).item())"
      ],
      "metadata": {
        "id": "qJv2jzchkQvE"
      },
      "execution_count": null,
      "outputs": []
    },
    {
      "cell_type": "code",
      "source": [
        "weights_to_destroy = list(range(418))\n",
        "\n",
        "model_copy = copy.deepcopy(model)\n",
        "for ly in model_copy.named_modules():\n",
        "    if ly[0] == 'fc1':\n",
        "        layer_0_to_1_weights = ly[1].weight.data\n",
        "        break\n",
        "for weight in weights_to_destroy:\n",
        "    layer_0_to_1_weights[weight] = 0\n",
        "out = model_copy(train_data.__getitem__(5)[0])\n",
        "if torch.argmax(out).item() != 0:\n",
        "    print(torch.argmax(out).item())"
      ],
      "metadata": {
        "id": "mERnqeB8kTQT"
      },
      "execution_count": null,
      "outputs": []
    },
    {
      "cell_type": "code",
      "source": [
        "weights_to_destroy = list(range(421))\n",
        "\n",
        "model_copy = copy.deepcopy(model)\n",
        "for ly in model_copy.named_modules():\n",
        "    if ly[0] == 'fc1':\n",
        "        layer_0_to_1_weights = ly[1].weight.data\n",
        "        break\n",
        "for weight in weights_to_destroy:\n",
        "    layer_0_to_1_weights[weight] = 0\n",
        "out = model_copy(train_data.__getitem__(5)[0])\n",
        "if torch.argmax(out).item() != 0:\n",
        "    print(torch.argmax(out).item())"
      ],
      "metadata": {
        "id": "LyBQKCsDkWIu"
      },
      "execution_count": null,
      "outputs": []
    },
    {
      "cell_type": "code",
      "source": [
        "weights_to_destroy = list(range(423))\n",
        "\n",
        "model_copy = copy.deepcopy(model)\n",
        "for ly in model_copy.named_modules():\n",
        "    if ly[0] == 'fc1':\n",
        "        layer_0_to_1_weights = ly[1].weight.data\n",
        "        break\n",
        "for weight in weights_to_destroy:\n",
        "    layer_0_to_1_weights[weight] = 0\n",
        "out = model_copy(train_data.__getitem__(5)[0])\n",
        "if torch.argmax(out).item() != 0:\n",
        "    print(torch.argmax(out).item())"
      ],
      "metadata": {
        "colab": {
          "base_uri": "https://localhost:8080/"
        },
        "id": "-ieRM_sJkYuN",
        "outputId": "fabae7cf-8895-4c4c-a3ad-1da976e2f26b"
      },
      "execution_count": null,
      "outputs": [
        {
          "output_type": "stream",
          "name": "stdout",
          "text": [
            "5\n"
          ]
        }
      ]
    },
    {
      "cell_type": "code",
      "source": [
        "out"
      ],
      "metadata": {
        "colab": {
          "base_uri": "https://localhost:8080/"
        },
        "id": "K2bOnnkVkiFY",
        "outputId": "bae233f0-7cec-47b9-f97f-6345bfcf6cd3"
      },
      "execution_count": null,
      "outputs": [
        {
          "output_type": "execute_result",
          "data": {
            "text/plain": [
              "tensor([[ 2.5940, -0.7208,  1.0590, -0.5884, -1.6612,  3.1647, -0.0438,  1.0911,\n",
              "         -3.3205, -1.8568]], grad_fn=<AddmmBackward0>)"
            ]
          },
          "metadata": {},
          "execution_count": 108
        }
      ]
    },
    {
      "cell_type": "markdown",
      "source": [
        "Plot how the prob changes over time as more weights destroyed."
      ],
      "metadata": {
        "id": "aYMm1p_MkaTN"
      }
    },
    {
      "cell_type": "markdown",
      "source": [
        "## Modify weights for multiple input images"
      ],
      "metadata": {
        "id": "VKKFsn2lklMy"
      }
    },
    {
      "cell_type": "markdown",
      "source": [
        "For each image, destroy 1st layer weights, cutting it in half until class is 'restored' back to 0. Save the image index and this 'number of neurons' metric."
      ],
      "metadata": {
        "id": "L9cHydRBk4p2"
      }
    },
    {
      "cell_type": "code",
      "source": [
        "# binary search (impelment later)\n",
        "# https://www.geeksforgeeks.org/python-program-for-binary-search/\n",
        "\n",
        "image_neuron_list = []\n",
        "for img_ind in ind_0:\n",
        "    num_w = 512\n",
        "    while True:\n",
        "        weights_to_destroy = list(range(num_w))\n",
        "\n",
        "        model_copy = copy.deepcopy(model)\n",
        "        for ly in model_copy.named_modules():\n",
        "            if ly[0] == 'fc1':\n",
        "                layer_0_to_1_weights = ly[1].weight.data\n",
        "                break\n",
        "        for weight in weights_to_destroy:\n",
        "            layer_0_to_1_weights[weight] = 0\n",
        "        out = model_copy(train_data.__getitem__(5)[0])\n",
        "        '''if new midpt reaches corr label, go right. else, go left. b/c answer val midpt will always be bigger, so this is an \n",
        "        'easier' version of binary search. end when new bigger value is also 'correct label' '''\n",
        "        ''' 512 wrong -> 256 right -> 400 right -> 450 right -> 475 wrong -> 460; end b/c 475-460 is 'within threshold' '''\n",
        "        ''' 512 wrong -> 256 right -> 400 wrong -> 300 .... '''\n",
        "\n",
        "        '''based on examples, go right if 'corr label', go left if 'wrong label'. left is between closest val that gets corr label\n",
        "        and right is b/w curr val and closest val that gets wrong label'''\n",
        "\n",
        "        # if torch.argmax(out).item() == 0:\n",
        "        #     image_neuron_list.append(img_ind, num_w)\n",
        "        #     break\n",
        "        # else:\n",
        "        #     num_w"
      ],
      "metadata": {
        "id": "I8QCFMX1krL8"
      },
      "execution_count": null,
      "outputs": []
    },
    {
      "cell_type": "markdown",
      "source": [
        "Actually b/c output val is close to 512, it's prob faster to just increment down by 1."
      ],
      "metadata": {
        "id": "POB1dd6Qo5kK"
      }
    },
    {
      "cell_type": "code",
      "source": [
        "# just output at first val that's correct by going down 1 increment\n",
        "\n",
        "import pdb\n",
        "\n",
        "image_neuron_list = []\n",
        "neuron_list = []\n",
        "for img_ind in inds_0:\n",
        "    num_w = 512\n",
        "    while True:\n",
        "        weights_to_destroy = list(range(num_w))\n",
        "\n",
        "        model_copy = copy.deepcopy(model)\n",
        "        for ly in model_copy.named_modules():\n",
        "            if ly[0] == 'fc1':\n",
        "                layer_0_to_1_weights = ly[1].weight.data\n",
        "                break\n",
        "        for weight in weights_to_destroy:\n",
        "            layer_0_to_1_weights[weight] = 0\n",
        "        out = model_copy(train_data.__getitem__(img_ind)[0])\n",
        "        if torch.argmax(out).item() == 0:\n",
        "            image_neuron_list.append((img_ind, num_w))\n",
        "            neuron_list.append(num_w)\n",
        "            break\n",
        "        else:\n",
        "            num_w -= 1"
      ],
      "metadata": {
        "id": "1b8Rjv-InFMB"
      },
      "execution_count": null,
      "outputs": []
    },
    {
      "cell_type": "code",
      "source": [
        "len(image_neuron_list)"
      ],
      "metadata": {
        "colab": {
          "base_uri": "https://localhost:8080/"
        },
        "id": "5n_esMfOni1F",
        "outputId": "32444888-c4a2-4af3-ef68-fc7631eb6cda"
      },
      "execution_count": null,
      "outputs": [
        {
          "output_type": "execute_result",
          "data": {
            "text/plain": [
              "364"
            ]
          },
          "metadata": {},
          "execution_count": 122
        }
      ]
    },
    {
      "cell_type": "code",
      "source": [
        "plt.hist(neuron_list, 10)"
      ],
      "metadata": {
        "colab": {
          "base_uri": "https://localhost:8080/",
          "height": 337
        },
        "id": "mOZAiCWTou3-",
        "outputId": "0642fc91-7981-4b90-9ca7-d41bb784cd5e"
      },
      "execution_count": null,
      "outputs": [
        {
          "output_type": "execute_result",
          "data": {
            "text/plain": [
              "(array([  2.,   3.,   3.,  13.,  13.,  35.,  61., 145.,  63.,  26.]),\n",
              " array([329. , 342.8, 356.6, 370.4, 384.2, 398. , 411.8, 425.6, 439.4,\n",
              "        453.2, 467. ]),\n",
              " <a list of 10 Patch objects>)"
            ]
          },
          "metadata": {},
          "execution_count": 123
        },
        {
          "output_type": "display_data",
          "data": {
            "text/plain": [
              "<Figure size 432x288 with 1 Axes>"
            ],
            "image/png": "[encoded data removed]"
          },
          "metadata": {
            "needs_background": "light"
          }
        }
      ]
    },
    {
      "cell_type": "markdown",
      "source": [
        "To check if this is indp of being consecutive, just take random samples of neurons in 1st layer to knock out. And then take average (also look at distribution for more info). \n",
        "\n",
        "Take multiple random samples for each image."
      ],
      "metadata": {
        "id": "TdLBwHGBBX8p"
      }
    },
    {
      "cell_type": "code",
      "source": [
        "from random import sample\n",
        "\n",
        "image_neuron_list = []\n",
        "neuron_list = []\n",
        "for img_ind in inds_0[0:100]:\n",
        "    for i in range(3):\n",
        "        num_w = 512\n",
        "        while True:\n",
        "            img_num_w_list = []\n",
        "            weights_to_destroy = sample(list(range(512)), num_w)\n",
        "\n",
        "            model_copy = copy.deepcopy(model)\n",
        "            for ly in model_copy.named_modules():\n",
        "                if ly[0] == 'fc1':\n",
        "                    layer_0_to_1_weights = ly[1].weight.data\n",
        "                    break\n",
        "            for weight in weights_to_destroy:\n",
        "                layer_0_to_1_weights[weight] = 0\n",
        "            out = model_copy(train_data.__getitem__(img_ind)[0])\n",
        "            if torch.argmax(out).item() == 0:\n",
        "                # image_neuron_list.append((img_ind, num_w))\n",
        "                img_num_w_list.append(num_w)\n",
        "                break\n",
        "            else:\n",
        "                num_w -= 1\n",
        "    avg_num_w = sum(img_num_w_list) / len(img_num_w_list)\n",
        "    image_neuron_list.append((img_ind, avg_num_w))\n",
        "    neuron_list.append(avg_num_w)"
      ],
      "metadata": {
        "id": "JIFMtJ4eBhFc"
      },
      "execution_count": null,
      "outputs": []
    },
    {
      "cell_type": "code",
      "source": [
        "plt.hist(neuron_list, 10)"
      ],
      "metadata": {
        "colab": {
          "base_uri": "https://localhost:8080/",
          "height": 319
        },
        "id": "yfOO7s0ACBVz",
        "outputId": "612b3207-ea03-46a1-874d-50fee9315081"
      },
      "execution_count": null,
      "outputs": [
        {
          "output_type": "execute_result",
          "data": {
            "text/plain": [
              "(array([ 1.,  2.,  6., 12., 12., 13., 16., 19., 15.,  4.]),\n",
              " array([432., 439., 446., 453., 460., 467., 474., 481., 488., 495., 502.]),\n",
              " <a list of 10 Patch objects>)"
            ]
          },
          "metadata": {},
          "execution_count": 131
        },
        {
          "output_type": "display_data",
          "data": {
            "text/plain": [
              "<Figure size 432x288 with 1 Axes>"
            ],
            "image/png": "[encoded data removed]"
          },
          "metadata": {
            "needs_background": "light"
          }
        }
      ]
    },
    {
      "cell_type": "markdown",
      "source": [
        "Is it the number (b/c neurons add up to contribute), or certain neurons? Most likely, the number PLUS certain neurons?\n",
        "\n",
        "Why those neurons? Do they play a role that can be described?"
      ],
      "metadata": {
        "id": "UAK1HOavDXG9"
      }
    },
    {
      "cell_type": "markdown",
      "source": [
        "# Actv Max\n",
        "\n",
        "https://github.com/christianversloot/machine-learning-articles/blob/main/visualizing-keras-model-inputs-with-activation-maximization.md\n",
        "\n",
        "https://punndeeplearningblog.com/tutorial/visualizing-deep-learning/\n",
        "\n",
        "https://morioh.com/p/f7a2bd9ff16c"
      ],
      "metadata": {
        "id": "tXn3Ey3VpdRN"
      }
    },
    {
      "cell_type": "code",
      "source": [
        "model"
      ],
      "metadata": {
        "colab": {
          "base_uri": "https://localhost:8080/"
        },
        "id": "6SLwshEq-R4i",
        "outputId": "217acae6-5d6e-4ef6-b7d7-be0091141175"
      },
      "execution_count": null,
      "outputs": [
        {
          "output_type": "execute_result",
          "data": {
            "text/plain": [
              "Net(\n",
              "  (fc1): Linear(in_features=784, out_features=512, bias=True)\n",
              "  (fc2): Linear(in_features=512, out_features=512, bias=True)\n",
              "  (fc3): Linear(in_features=512, out_features=10, bias=True)\n",
              "  (dropout): Dropout(p=0.2, inplace=False)\n",
              ")"
            ]
          },
          "metadata": {},
          "execution_count": 124
        }
      ]
    },
    {
      "cell_type": "markdown",
      "source": [
        "# Compare slight mods of input\n",
        "\n",
        "---\n",
        "Now slightly modify the input and see what happens to each activation!\n",
        "\n",
        "Try different modification levels\n"
      ],
      "metadata": {
        "id": "aARB9Xwa0V8c"
      }
    },
    {
      "cell_type": "code",
      "source": [
        "input_2 = x_train[0] + torch.tensor([0.1,0])\n",
        "input_2"
      ],
      "metadata": {
        "colab": {
          "base_uri": "https://localhost:8080/"
        },
        "id": "5B30L-rM0ZAB",
        "outputId": "4fa64dc4-0b0d-4967-d243-945487a45aa1"
      },
      "execution_count": null,
      "outputs": [
        {
          "output_type": "execute_result",
          "data": {
            "text/plain": [
              "tensor([ 0.6815, -8.9559])"
            ]
          },
          "metadata": {},
          "execution_count": 50
        }
      ]
    },
    {
      "cell_type": "code",
      "source": [
        "for layer_name in layers:\n",
        "    print(get_activations(input_2, layer_name))"
      ],
      "metadata": {
        "colab": {
          "base_uri": "https://localhost:8080/"
        },
        "id": "-7uJ3bIo2hzL",
        "outputId": "29991dec-06a0-4a90-cb5d-8a9c8d7825a4"
      },
      "execution_count": null,
      "outputs": [
        {
          "output_type": "stream",
          "name": "stdout",
          "text": [
            "{'fc1': tensor([7.9596, 8.3923])}\n",
            "{'relu': tensor([7.9596, 8.3923])}\n",
            "{'fc2': tensor([3.2521])}\n",
            "{'sigmoid': tensor([0.9627])}\n"
          ]
        }
      ]
    },
    {
      "cell_type": "markdown",
      "source": [
        "\n",
        "\n",
        "---\n",
        "\n"
      ],
      "metadata": {
        "id": "BVw04gwQ2wLU"
      }
    },
    {
      "cell_type": "code",
      "source": [
        "input_3 = x_train[0] + torch.tensor([1,0])\n",
        "for layer_name in layers:\n",
        "    print(get_activations(input_3, layer_name))"
      ],
      "metadata": {
        "colab": {
          "base_uri": "https://localhost:8080/"
        },
        "id": "stI_JviE2xAn",
        "outputId": "55397655-cdf4-4289-95eb-553cb58ba913"
      },
      "execution_count": null,
      "outputs": [
        {
          "output_type": "stream",
          "name": "stdout",
          "text": [
            "{'fc1': tensor([8.1595, 8.5033])}\n",
            "{'relu': tensor([8.1595, 8.5033])}\n",
            "{'fc2': tensor([3.0181])}\n",
            "{'sigmoid': tensor([0.9534])}\n"
          ]
        }
      ]
    },
    {
      "cell_type": "code",
      "source": [
        "model.fc1.weight.data"
      ],
      "metadata": {
        "colab": {
          "base_uri": "https://localhost:8080/"
        },
        "id": "sA-1kCxl87ng",
        "outputId": "dd5dd08a-1364-4962-f5fe-03ad29aef09f"
      },
      "execution_count": null,
      "outputs": [
        {
          "output_type": "execute_result",
          "data": {
            "text/plain": [
              "tensor([[ 0.2221, -0.5793],\n",
              "        [ 0.1234, -1.1833]])"
            ]
          },
          "metadata": {},
          "execution_count": 56
        }
      ]
    },
    {
      "cell_type": "code",
      "source": [
        "torch.matmul(model.fc1.weight.data, input_2 ) + model.fc1.bias"
      ],
      "metadata": {
        "colab": {
          "base_uri": "https://localhost:8080/"
        },
        "id": "9tefs7by9Lll",
        "outputId": "e1cb1714-ec42-4b4a-edb0-beecc88acf67"
      },
      "execution_count": null,
      "outputs": [
        {
          "output_type": "execute_result",
          "data": {
            "text/plain": [
              "tensor([7.9596, 8.3923], grad_fn=<AddBackward0>)"
            ]
          },
          "metadata": {},
          "execution_count": 61
        }
      ]
    },
    {
      "cell_type": "markdown",
      "source": [
        "Find a local motif. This is a local circuit?"
      ],
      "metadata": {
        "id": "sRR8YgAK29ID"
      }
    },
    {
      "cell_type": "markdown",
      "source": [
        "## Compare mods as interpolate from 1 number to another\n",
        "\n",
        "Eg) Transform input 0 to 8"
      ],
      "metadata": {
        "id": "GZPame7r8PMw"
      }
    }
  ]
}